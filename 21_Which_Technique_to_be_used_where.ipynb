{
 "cells": [
  {
   "cell_type": "code",
   "execution_count": null,
   "metadata": {},
   "outputs": [],
   "source": [
    "# Four Import plot types for Junior Data Analyst\n",
    "\n",
    "# Histogram\n",
    "# Bar Graph\n",
    "# Line Graph\n",
    "# Boxplot"
   ]
  },
  {
   "cell_type": "code",
   "execution_count": null,
   "metadata": {},
   "outputs": [],
   "source": [
    "# Lifecycle of Analytics Project\n",
    "\n",
    "# Acquisition of Data\n",
    "# Exploratory Data Analysis (EDA): Data Quality/Integrity Analysis (Missing Data/Void, Any false data (Data Errors), Extreme values (Outliers) etc)\n",
    "# What is happening? (Trends, Facts)\n",
    "# Why it is happening?\n",
    "# What can be suggested or recommended to improve the business process? (Prescriptive Analysis) (We should give more discounts on the day we are making lesser sales)\n",
    "\n",
    "# 10 people working in our warehouse (1000 orders a day)\n",
    "# Mon = 400 (Discounting for Monday)\n",
    "# Tue = 500 (Discounting for Tuesday)\n",
    "# Wed = 1000\n",
    "# Thu = 1200 (We may need overtime here. Whenever you need keep employees for overtime, you need to pay more)\n",
    "# Fri = 1000\n",
    "# Sat = 100 (Cut the number of employees here) (Discounting on Saturday) \n",
    "# Sun = 50 (Cut the number of employees here) "
   ]
  },
  {
   "cell_type": "code",
   "execution_count": 1,
   "metadata": {},
   "outputs": [],
   "source": [
    "import numpy as np\n",
    "import pandas as pd"
   ]
  },
  {
   "cell_type": "code",
   "execution_count": 12,
   "metadata": {},
   "outputs": [],
   "source": [
    "student_data = pd.read_csv('student-mat2.csv')"
   ]
  },
  {
   "cell_type": "code",
   "execution_count": 13,
   "metadata": {},
   "outputs": [
    {
     "data": {
      "text/html": [
       "<div>\n",
       "<style scoped>\n",
       "    .dataframe tbody tr th:only-of-type {\n",
       "        vertical-align: middle;\n",
       "    }\n",
       "\n",
       "    .dataframe tbody tr th {\n",
       "        vertical-align: top;\n",
       "    }\n",
       "\n",
       "    .dataframe thead th {\n",
       "        text-align: right;\n",
       "    }\n",
       "</style>\n",
       "<table border=\"1\" class=\"dataframe\">\n",
       "  <thead>\n",
       "    <tr style=\"text-align: right;\">\n",
       "      <th></th>\n",
       "      <th>school</th>\n",
       "      <th>sex</th>\n",
       "      <th>age</th>\n",
       "      <th>address</th>\n",
       "      <th>famsize</th>\n",
       "      <th>Pstatus</th>\n",
       "      <th>Medu</th>\n",
       "      <th>Fedu</th>\n",
       "      <th>Mjob</th>\n",
       "      <th>Fjob</th>\n",
       "      <th>...</th>\n",
       "      <th>freetime</th>\n",
       "      <th>goout</th>\n",
       "      <th>Unnamed: 26</th>\n",
       "      <th>Dalc</th>\n",
       "      <th>Walc</th>\n",
       "      <th>health</th>\n",
       "      <th>absences</th>\n",
       "      <th>G1</th>\n",
       "      <th>G2</th>\n",
       "      <th>G3</th>\n",
       "    </tr>\n",
       "  </thead>\n",
       "  <tbody>\n",
       "    <tr>\n",
       "      <th>0</th>\n",
       "      <td>GP</td>\n",
       "      <td>F</td>\n",
       "      <td>18</td>\n",
       "      <td>U</td>\n",
       "      <td>GT3</td>\n",
       "      <td>A</td>\n",
       "      <td>4</td>\n",
       "      <td>4</td>\n",
       "      <td>at_home</td>\n",
       "      <td>teacher</td>\n",
       "      <td>...</td>\n",
       "      <td>3</td>\n",
       "      <td>4</td>\n",
       "      <td>1</td>\n",
       "      <td>1</td>\n",
       "      <td>3</td>\n",
       "      <td>6</td>\n",
       "      <td>5</td>\n",
       "      <td>6</td>\n",
       "      <td>6</td>\n",
       "      <td>NaN</td>\n",
       "    </tr>\n",
       "    <tr>\n",
       "      <th>1</th>\n",
       "      <td>GP</td>\n",
       "      <td>F</td>\n",
       "      <td>17</td>\n",
       "      <td>U</td>\n",
       "      <td>GT3</td>\n",
       "      <td>T</td>\n",
       "      <td>1</td>\n",
       "      <td>1</td>\n",
       "      <td>at_home</td>\n",
       "      <td>other</td>\n",
       "      <td>...</td>\n",
       "      <td>3</td>\n",
       "      <td>3</td>\n",
       "      <td>1</td>\n",
       "      <td>1</td>\n",
       "      <td>3</td>\n",
       "      <td>4</td>\n",
       "      <td>5</td>\n",
       "      <td>5</td>\n",
       "      <td>6</td>\n",
       "      <td>NaN</td>\n",
       "    </tr>\n",
       "    <tr>\n",
       "      <th>2</th>\n",
       "      <td>GP</td>\n",
       "      <td>F</td>\n",
       "      <td>15</td>\n",
       "      <td>U</td>\n",
       "      <td>LE3</td>\n",
       "      <td>T</td>\n",
       "      <td>1</td>\n",
       "      <td>1</td>\n",
       "      <td>at_home</td>\n",
       "      <td>other</td>\n",
       "      <td>...</td>\n",
       "      <td>3</td>\n",
       "      <td>2</td>\n",
       "      <td>2</td>\n",
       "      <td>3</td>\n",
       "      <td>3</td>\n",
       "      <td>10</td>\n",
       "      <td>7</td>\n",
       "      <td>8</td>\n",
       "      <td>10</td>\n",
       "      <td>NaN</td>\n",
       "    </tr>\n",
       "    <tr>\n",
       "      <th>3</th>\n",
       "      <td>GP</td>\n",
       "      <td>F</td>\n",
       "      <td>15</td>\n",
       "      <td>U</td>\n",
       "      <td>GT3</td>\n",
       "      <td>T</td>\n",
       "      <td>4</td>\n",
       "      <td>2</td>\n",
       "      <td>health</td>\n",
       "      <td>services</td>\n",
       "      <td>...</td>\n",
       "      <td>2</td>\n",
       "      <td>2</td>\n",
       "      <td>1</td>\n",
       "      <td>1</td>\n",
       "      <td>5</td>\n",
       "      <td>2</td>\n",
       "      <td>15</td>\n",
       "      <td>14</td>\n",
       "      <td>15</td>\n",
       "      <td>NaN</td>\n",
       "    </tr>\n",
       "    <tr>\n",
       "      <th>4</th>\n",
       "      <td>GP</td>\n",
       "      <td>F</td>\n",
       "      <td>16</td>\n",
       "      <td>U</td>\n",
       "      <td>GT3</td>\n",
       "      <td>T</td>\n",
       "      <td>3</td>\n",
       "      <td>3</td>\n",
       "      <td>other</td>\n",
       "      <td>other</td>\n",
       "      <td>...</td>\n",
       "      <td>3</td>\n",
       "      <td>2</td>\n",
       "      <td>1</td>\n",
       "      <td>2</td>\n",
       "      <td>5</td>\n",
       "      <td>4</td>\n",
       "      <td>6</td>\n",
       "      <td>10</td>\n",
       "      <td>10</td>\n",
       "      <td>NaN</td>\n",
       "    </tr>\n",
       "  </tbody>\n",
       "</table>\n",
       "<p>5 rows × 34 columns</p>\n",
       "</div>"
      ],
      "text/plain": [
       "  school sex  age address famsize Pstatus  Medu  Fedu     Mjob      Fjob  ...  \\\n",
       "0     GP   F   18       U     GT3       A     4     4  at_home   teacher  ...   \n",
       "1     GP   F   17       U     GT3       T     1     1  at_home     other  ...   \n",
       "2     GP   F   15       U     LE3       T     1     1  at_home     other  ...   \n",
       "3     GP   F   15       U     GT3       T     4     2   health  services  ...   \n",
       "4     GP   F   16       U     GT3       T     3     3    other     other  ...   \n",
       "\n",
       "  freetime goout  Unnamed: 26  Dalc  Walc health absences  G1  G2  G3  \n",
       "0        3     4            1     1     3      6        5   6   6 NaN  \n",
       "1        3     3            1     1     3      4        5   5   6 NaN  \n",
       "2        3     2            2     3     3     10        7   8  10 NaN  \n",
       "3        2     2            1     1     5      2       15  14  15 NaN  \n",
       "4        3     2            1     2     5      4        6  10  10 NaN  \n",
       "\n",
       "[5 rows x 34 columns]"
      ]
     },
     "execution_count": 13,
     "metadata": {},
     "output_type": "execute_result"
    }
   ],
   "source": [
    "student_data.head()"
   ]
  },
  {
   "cell_type": "code",
   "execution_count": 14,
   "metadata": {},
   "outputs": [
    {
     "data": {
      "text/plain": [
       "GP    349\n",
       "MS     46\n",
       "Name: school, dtype: int64"
      ]
     },
     "execution_count": 14,
     "metadata": {},
     "output_type": "execute_result"
    }
   ],
   "source": [
    "student_data['school'].value_counts(dropna=False)"
   ]
  },
  {
   "cell_type": "code",
   "execution_count": 15,
   "metadata": {},
   "outputs": [
    {
     "data": {
      "text/plain": [
       "F    208\n",
       "M    187\n",
       "Name: sex, dtype: int64"
      ]
     },
     "execution_count": 15,
     "metadata": {},
     "output_type": "execute_result"
    }
   ],
   "source": [
    "student_data['sex'].value_counts(dropna=False)"
   ]
  },
  {
   "cell_type": "code",
   "execution_count": 16,
   "metadata": {},
   "outputs": [
    {
     "data": {
      "text/plain": [
       "U    307\n",
       "R     88\n",
       "Name: address, dtype: int64"
      ]
     },
     "execution_count": 16,
     "metadata": {},
     "output_type": "execute_result"
    }
   ],
   "source": [
    "student_data['address'].value_counts(dropna=False)"
   ]
  },
  {
   "cell_type": "code",
   "execution_count": 17,
   "metadata": {},
   "outputs": [
    {
     "data": {
      "text/plain": [
       "GT3    281\n",
       "LE3    114\n",
       "Name: famsize, dtype: int64"
      ]
     },
     "execution_count": 17,
     "metadata": {},
     "output_type": "execute_result"
    }
   ],
   "source": [
    "student_data['famsize'].value_counts(dropna=False)"
   ]
  },
  {
   "cell_type": "code",
   "execution_count": 19,
   "metadata": {},
   "outputs": [
    {
     "data": {
      "text/plain": [
       "2    115\n",
       "3    100\n",
       "4     96\n",
       "1     82\n",
       "0      2\n",
       "Name: Fedu, dtype: int64"
      ]
     },
     "execution_count": 19,
     "metadata": {},
     "output_type": "execute_result"
    }
   ],
   "source": [
    "student_data['Fedu'].value_counts(dropna=False)"
   ]
  },
  {
   "cell_type": "code",
   "execution_count": 18,
   "metadata": {},
   "outputs": [
    {
     "data": {
      "text/plain": [
       "4    131\n",
       "2    103\n",
       "3     99\n",
       "1     59\n",
       "0      3\n",
       "Name: Medu, dtype: int64"
      ]
     },
     "execution_count": 18,
     "metadata": {},
     "output_type": "execute_result"
    }
   ],
   "source": [
    "student_data['Medu'].value_counts(dropna=False)"
   ]
  },
  {
   "cell_type": "code",
   "execution_count": 27,
   "metadata": {},
   "outputs": [
    {
     "data": {
      "text/plain": [
       "<matplotlib.axes._subplots.AxesSubplot at 0x20351975ac8>"
      ]
     },
     "execution_count": 27,
     "metadata": {},
     "output_type": "execute_result"
    },
    {
     "data": {
      "image/png": "[encoded data removed]",
      "text/plain": [
       "<Figure size 432x288 with 1 Axes>"
      ]
     },
     "metadata": {
      "needs_background": "light"
     },
     "output_type": "display_data"
    }
   ],
   "source": [
    "student_data['G1'].plot(kind='box')"
   ]
  },
  {
   "cell_type": "code",
   "execution_count": null,
   "metadata": {},
   "outputs": [],
   "source": []
  },
  {
   "cell_type": "code",
   "execution_count": null,
   "metadata": {},
   "outputs": [],
   "source": [
    "# Observation from Medu Analysis\n",
    "# Most of the mothers are well-eduated.\n",
    "# Most of the mothers are well-eduated (secondary education or higher).\n",
    "# Are you sure about this thing?\n",
    "\n",
    "# 3 or above (secondary or above) 99+131 = 230\n",
    "# Below 3:                        103+59+3 = 164"
   ]
  },
  {
   "cell_type": "code",
   "execution_count": 86,
   "metadata": {},
   "outputs": [
    {
     "data": {
      "text/plain": [
       "0      False\n",
       "1       True\n",
       "2       True\n",
       "3      False\n",
       "4      False\n",
       "       ...  \n",
       "390     True\n",
       "391    False\n",
       "392     True\n",
       "393    False\n",
       "394     True\n",
       "Name: Medu, Length: 395, dtype: bool"
      ]
     },
     "execution_count": 86,
     "metadata": {},
     "output_type": "execute_result"
    }
   ],
   "source": [
    "student_data['Medu']<3"
   ]
  },
  {
   "cell_type": "code",
   "execution_count": 89,
   "metadata": {},
   "outputs": [
    {
     "data": {
      "text/plain": [
       "<matplotlib.axes._subplots.AxesSubplot at 0x20352d53668>"
      ]
     },
     "execution_count": 89,
     "metadata": {},
     "output_type": "execute_result"
    },
    {
     "data": {
      "image/png": "[encoded data removed]",
      "text/plain": [
       "<Figure size 432x288 with 1 Axes>"
      ]
     },
     "metadata": {
      "needs_background": "light"
     },
     "output_type": "display_data"
    }
   ],
   "source": [
    "selector = student_data['Medu']<3\n",
    "student_data['G1'].loc[selector].plot(kind='box')"
   ]
  },
  {
   "cell_type": "code",
   "execution_count": 90,
   "metadata": {},
   "outputs": [
    {
     "data": {
      "text/plain": [
       "<matplotlib.axes._subplots.AxesSubplot at 0x20352ee5780>"
      ]
     },
     "execution_count": 90,
     "metadata": {},
     "output_type": "execute_result"
    },
    {
     "data": {
      "image/png": "[encoded data removed]",
      "text/plain": [
       "<Figure size 432x288 with 1 Axes>"
      ]
     },
     "metadata": {
      "needs_background": "light"
     },
     "output_type": "display_data"
    }
   ],
   "source": [
    "selector = student_data['Medu']>=3\n",
    "student_data['G1'].loc[selector].plot(kind='box')"
   ]
  },
  {
   "cell_type": "code",
   "execution_count": 91,
   "metadata": {},
   "outputs": [
    {
     "name": "stderr",
     "output_type": "stream",
     "text": [
      "C:\\Users\\ajitp\\Anaconda3\\lib\\site-packages\\statsmodels\\tools\\_testing.py:19: FutureWarning: pandas.util.testing is deprecated. Use the functions in the public API at pandas.testing instead.\n",
      "  import pandas.util.testing as tm\n"
     ]
    }
   ],
   "source": [
    "import seaborn as sns"
   ]
  },
  {
   "cell_type": "code",
   "execution_count": 92,
   "metadata": {},
   "outputs": [
    {
     "data": {
      "text/plain": [
       "<matplotlib.axes._subplots.AxesSubplot at 0x20369f8b9e8>"
      ]
     },
     "execution_count": 92,
     "metadata": {},
     "output_type": "execute_result"
    },
    {
     "data": {
      "image/png": "[encoded data removed]",
      "text/plain": [
       "<Figure size 432x288 with 1 Axes>"
      ]
     },
     "metadata": {
      "needs_background": "light"
     },
     "output_type": "display_data"
    }
   ],
   "source": [
    "sns.boxplot(x=student_data['Medu'], y=student_data['G1'])"
   ]
  },
  {
   "cell_type": "code",
   "execution_count": null,
   "metadata": {},
   "outputs": [],
   "source": [
    "# The graph above is example of multi-category boxplot.\n",
    "# This is what I show you in the project file.\n",
    "# I created it using seaborn, as I told you.\n",
    "# I don't think pandas provide any functionality to create such a graph"
   ]
  },
  {
   "cell_type": "code",
   "execution_count": null,
   "metadata": {},
   "outputs": [],
   "source": []
  },
  {
   "cell_type": "code",
   "execution_count": null,
   "metadata": {},
   "outputs": [],
   "source": []
  },
  {
   "cell_type": "code",
   "execution_count": 2,
   "metadata": {},
   "outputs": [],
   "source": [
    "df = pd.read_csv('credit_test.csv')"
   ]
  },
  {
   "cell_type": "code",
   "execution_count": 3,
   "metadata": {},
   "outputs": [],
   "source": [
    "df2 = df.sample(n=50)"
   ]
  },
  {
   "cell_type": "code",
   "execution_count": 4,
   "metadata": {},
   "outputs": [
    {
     "data": {
      "text/html": [
       "<div>\n",
       "<style scoped>\n",
       "    .dataframe tbody tr th:only-of-type {\n",
       "        vertical-align: middle;\n",
       "    }\n",
       "\n",
       "    .dataframe tbody tr th {\n",
       "        vertical-align: top;\n",
       "    }\n",
       "\n",
       "    .dataframe thead th {\n",
       "        text-align: right;\n",
       "    }\n",
       "</style>\n",
       "<table border=\"1\" class=\"dataframe\">\n",
       "  <thead>\n",
       "    <tr style=\"text-align: right;\">\n",
       "      <th></th>\n",
       "      <th>Loan ID</th>\n",
       "      <th>Customer ID</th>\n",
       "      <th>Current Loan Amount</th>\n",
       "      <th>Term</th>\n",
       "      <th>Credit Score</th>\n",
       "      <th>Annual Income</th>\n",
       "      <th>Years in current job</th>\n",
       "      <th>Home Ownership</th>\n",
       "      <th>Purpose</th>\n",
       "      <th>Monthly Debt</th>\n",
       "      <th>Years of Credit History</th>\n",
       "      <th>Months since last delinquent</th>\n",
       "      <th>Number of Open Accounts</th>\n",
       "      <th>Number of Credit Problems</th>\n",
       "      <th>Current Credit Balance</th>\n",
       "      <th>Maximum Open Credit</th>\n",
       "      <th>Bankruptcies</th>\n",
       "      <th>Tax Liens</th>\n",
       "    </tr>\n",
       "  </thead>\n",
       "  <tbody>\n",
       "    <tr>\n",
       "      <th>2974</th>\n",
       "      <td>9aada557-6025-4e06-8bce-494c96abf01c</td>\n",
       "      <td>012f7488-4a9d-4a7c-b8f4-432306bf2400</td>\n",
       "      <td>435204.0</td>\n",
       "      <td>Long Term</td>\n",
       "      <td>NaN</td>\n",
       "      <td>NaN</td>\n",
       "      <td>10+ years</td>\n",
       "      <td>Home Mortgage</td>\n",
       "      <td>Debt Consolidation</td>\n",
       "      <td>18182.05</td>\n",
       "      <td>25.1</td>\n",
       "      <td>14.0</td>\n",
       "      <td>8.0</td>\n",
       "      <td>0.0</td>\n",
       "      <td>298851.0</td>\n",
       "      <td>371690.0</td>\n",
       "      <td>0.0</td>\n",
       "      <td>0.0</td>\n",
       "    </tr>\n",
       "    <tr>\n",
       "      <th>94</th>\n",
       "      <td>1eb4c0ae-7d6b-4764-8b74-60a24e341cd7</td>\n",
       "      <td>6d8b52bc-ace0-407b-be61-317de1f51e98</td>\n",
       "      <td>141724.0</td>\n",
       "      <td>Short Term</td>\n",
       "      <td>7150.0</td>\n",
       "      <td>847400.0</td>\n",
       "      <td>5 years</td>\n",
       "      <td>Rent</td>\n",
       "      <td>Debt Consolidation</td>\n",
       "      <td>14405.61</td>\n",
       "      <td>13.8</td>\n",
       "      <td>66.0</td>\n",
       "      <td>8.0</td>\n",
       "      <td>0.0</td>\n",
       "      <td>80750.0</td>\n",
       "      <td>102520.0</td>\n",
       "      <td>0.0</td>\n",
       "      <td>0.0</td>\n",
       "    </tr>\n",
       "    <tr>\n",
       "      <th>4687</th>\n",
       "      <td>7bbaf058-ee93-47ac-8c27-a777951e1634</td>\n",
       "      <td>7c13a8fc-8336-4ad9-8c8f-d6d0c2cdd940</td>\n",
       "      <td>443564.0</td>\n",
       "      <td>Long Term</td>\n",
       "      <td>721.0</td>\n",
       "      <td>2145233.0</td>\n",
       "      <td>9 years</td>\n",
       "      <td>Home Mortgage</td>\n",
       "      <td>Debt Consolidation</td>\n",
       "      <td>29139.35</td>\n",
       "      <td>17.0</td>\n",
       "      <td>4.0</td>\n",
       "      <td>14.0</td>\n",
       "      <td>0.0</td>\n",
       "      <td>331151.0</td>\n",
       "      <td>647702.0</td>\n",
       "      <td>0.0</td>\n",
       "      <td>0.0</td>\n",
       "    </tr>\n",
       "    <tr>\n",
       "      <th>6578</th>\n",
       "      <td>ea8c1417-25ab-49fc-ad61-9ca232966efd</td>\n",
       "      <td>8fd99b27-20b7-436c-b057-f78f654de27e</td>\n",
       "      <td>659648.0</td>\n",
       "      <td>Long Term</td>\n",
       "      <td>688.0</td>\n",
       "      <td>1358728.0</td>\n",
       "      <td>3 years</td>\n",
       "      <td>Home Mortgage</td>\n",
       "      <td>Debt Consolidation</td>\n",
       "      <td>44951.15</td>\n",
       "      <td>17.8</td>\n",
       "      <td>33.0</td>\n",
       "      <td>24.0</td>\n",
       "      <td>1.0</td>\n",
       "      <td>455069.0</td>\n",
       "      <td>1114036.0</td>\n",
       "      <td>1.0</td>\n",
       "      <td>0.0</td>\n",
       "    </tr>\n",
       "    <tr>\n",
       "      <th>282</th>\n",
       "      <td>7a38c71c-2ec7-40e6-82ca-d17404b2c8fa</td>\n",
       "      <td>0c0c4826-a564-4464-a6e2-9fa47b218ef6</td>\n",
       "      <td>221144.0</td>\n",
       "      <td>Long Term</td>\n",
       "      <td>665.0</td>\n",
       "      <td>611154.0</td>\n",
       "      <td>2 years</td>\n",
       "      <td>Own Home</td>\n",
       "      <td>Debt Consolidation</td>\n",
       "      <td>14566.16</td>\n",
       "      <td>10.9</td>\n",
       "      <td>NaN</td>\n",
       "      <td>17.0</td>\n",
       "      <td>0.0</td>\n",
       "      <td>41420.0</td>\n",
       "      <td>128238.0</td>\n",
       "      <td>0.0</td>\n",
       "      <td>0.0</td>\n",
       "    </tr>\n",
       "    <tr>\n",
       "      <th>8222</th>\n",
       "      <td>d591dc8c-f7a7-4698-aa4d-b7e12340bfed</td>\n",
       "      <td>0c35e736-d79f-4b45-aa4b-e13389e39c7f</td>\n",
       "      <td>99999999.0</td>\n",
       "      <td>Short Term</td>\n",
       "      <td>747.0</td>\n",
       "      <td>1329069.0</td>\n",
       "      <td>&lt; 1 year</td>\n",
       "      <td>Home Mortgage</td>\n",
       "      <td>Debt Consolidation</td>\n",
       "      <td>20268.25</td>\n",
       "      <td>20.9</td>\n",
       "      <td>NaN</td>\n",
       "      <td>13.0</td>\n",
       "      <td>0.0</td>\n",
       "      <td>610242.0</td>\n",
       "      <td>1275406.0</td>\n",
       "      <td>0.0</td>\n",
       "      <td>0.0</td>\n",
       "    </tr>\n",
       "    <tr>\n",
       "      <th>4943</th>\n",
       "      <td>0da99812-d3f6-427d-8d6c-fe91c3171498</td>\n",
       "      <td>081bb78a-74eb-4c9f-97e9-b5c0d9010fd7</td>\n",
       "      <td>355124.0</td>\n",
       "      <td>Long Term</td>\n",
       "      <td>677.0</td>\n",
       "      <td>1003371.0</td>\n",
       "      <td>3 years</td>\n",
       "      <td>Rent</td>\n",
       "      <td>Buy a Car</td>\n",
       "      <td>11965.25</td>\n",
       "      <td>27.6</td>\n",
       "      <td>NaN</td>\n",
       "      <td>8.0</td>\n",
       "      <td>0.0</td>\n",
       "      <td>335065.0</td>\n",
       "      <td>526438.0</td>\n",
       "      <td>0.0</td>\n",
       "      <td>0.0</td>\n",
       "    </tr>\n",
       "    <tr>\n",
       "      <th>7114</th>\n",
       "      <td>745d95f8-985f-453b-bf73-7dd97e30b1e1</td>\n",
       "      <td>d4c98754-1ec2-44a6-a1bc-13498f1895bb</td>\n",
       "      <td>99999999.0</td>\n",
       "      <td>Short Term</td>\n",
       "      <td>742.0</td>\n",
       "      <td>2396983.0</td>\n",
       "      <td>10+ years</td>\n",
       "      <td>Home Mortgage</td>\n",
       "      <td>Debt Consolidation</td>\n",
       "      <td>16599.16</td>\n",
       "      <td>19.6</td>\n",
       "      <td>68.0</td>\n",
       "      <td>9.0</td>\n",
       "      <td>3.0</td>\n",
       "      <td>145958.0</td>\n",
       "      <td>384098.0</td>\n",
       "      <td>2.0</td>\n",
       "      <td>1.0</td>\n",
       "    </tr>\n",
       "    <tr>\n",
       "      <th>4769</th>\n",
       "      <td>fbaaaaf3-459e-44c6-a584-9bf19f2f4466</td>\n",
       "      <td>00a0d58c-88a7-4828-9720-391b3fe73e0b</td>\n",
       "      <td>261492.0</td>\n",
       "      <td>Short Term</td>\n",
       "      <td>742.0</td>\n",
       "      <td>828058.0</td>\n",
       "      <td>6 years</td>\n",
       "      <td>Own Home</td>\n",
       "      <td>Debt Consolidation</td>\n",
       "      <td>15526.04</td>\n",
       "      <td>18.2</td>\n",
       "      <td>18.0</td>\n",
       "      <td>11.0</td>\n",
       "      <td>1.0</td>\n",
       "      <td>193762.0</td>\n",
       "      <td>377080.0</td>\n",
       "      <td>1.0</td>\n",
       "      <td>0.0</td>\n",
       "    </tr>\n",
       "    <tr>\n",
       "      <th>371</th>\n",
       "      <td>a503c8aa-2eb4-477c-86c0-56a69c55aaa2</td>\n",
       "      <td>d7447d62-f384-4afc-ba41-4bcc63a0ac1b</td>\n",
       "      <td>317966.0</td>\n",
       "      <td>Short Term</td>\n",
       "      <td>711.0</td>\n",
       "      <td>1830745.0</td>\n",
       "      <td>7 years</td>\n",
       "      <td>Rent</td>\n",
       "      <td>Debt Consolidation</td>\n",
       "      <td>14234.04</td>\n",
       "      <td>9.8</td>\n",
       "      <td>NaN</td>\n",
       "      <td>6.0</td>\n",
       "      <td>0.0</td>\n",
       "      <td>153444.0</td>\n",
       "      <td>205392.0</td>\n",
       "      <td>0.0</td>\n",
       "      <td>0.0</td>\n",
       "    </tr>\n",
       "    <tr>\n",
       "      <th>7391</th>\n",
       "      <td>38a85f3d-bc56-433e-a3ea-69f50a985f1e</td>\n",
       "      <td>2204fa72-6e6b-44ce-a504-8b97fd2acd37</td>\n",
       "      <td>67496.0</td>\n",
       "      <td>Short Term</td>\n",
       "      <td>716.0</td>\n",
       "      <td>291422.0</td>\n",
       "      <td>3 years</td>\n",
       "      <td>Own Home</td>\n",
       "      <td>Debt Consolidation</td>\n",
       "      <td>5585.43</td>\n",
       "      <td>6.0</td>\n",
       "      <td>NaN</td>\n",
       "      <td>9.0</td>\n",
       "      <td>0.0</td>\n",
       "      <td>94259.0</td>\n",
       "      <td>198088.0</td>\n",
       "      <td>0.0</td>\n",
       "      <td>0.0</td>\n",
       "    </tr>\n",
       "    <tr>\n",
       "      <th>1947</th>\n",
       "      <td>4134e333-06e0-4f95-beb7-8a778f270bd8</td>\n",
       "      <td>6e3a3172-658a-46cd-ae69-6c62acc4e347</td>\n",
       "      <td>391160.0</td>\n",
       "      <td>Long Term</td>\n",
       "      <td>690.0</td>\n",
       "      <td>844569.0</td>\n",
       "      <td>4 years</td>\n",
       "      <td>Rent</td>\n",
       "      <td>Debt Consolidation</td>\n",
       "      <td>21395.71</td>\n",
       "      <td>11.4</td>\n",
       "      <td>NaN</td>\n",
       "      <td>16.0</td>\n",
       "      <td>0.0</td>\n",
       "      <td>115843.0</td>\n",
       "      <td>817850.0</td>\n",
       "      <td>0.0</td>\n",
       "      <td>0.0</td>\n",
       "    </tr>\n",
       "    <tr>\n",
       "      <th>1667</th>\n",
       "      <td>f8584ff1-d476-4c17-8133-3ec15a375528</td>\n",
       "      <td>22a596d4-ff9f-48b9-b94a-62b1071f4bcd</td>\n",
       "      <td>92796.0</td>\n",
       "      <td>Short Term</td>\n",
       "      <td>714.0</td>\n",
       "      <td>476235.0</td>\n",
       "      <td>2 years</td>\n",
       "      <td>Rent</td>\n",
       "      <td>Buy House</td>\n",
       "      <td>9127.79</td>\n",
       "      <td>9.2</td>\n",
       "      <td>22.0</td>\n",
       "      <td>5.0</td>\n",
       "      <td>0.0</td>\n",
       "      <td>22952.0</td>\n",
       "      <td>136994.0</td>\n",
       "      <td>0.0</td>\n",
       "      <td>0.0</td>\n",
       "    </tr>\n",
       "    <tr>\n",
       "      <th>6229</th>\n",
       "      <td>09f9084e-0f84-4c8e-bd6e-3a1ec3a8ef5d</td>\n",
       "      <td>1f53ed0b-b613-4b15-a061-45874b6404ac</td>\n",
       "      <td>263714.0</td>\n",
       "      <td>Short Term</td>\n",
       "      <td>751.0</td>\n",
       "      <td>683240.0</td>\n",
       "      <td>6 years</td>\n",
       "      <td>Own Home</td>\n",
       "      <td>Debt Consolidation</td>\n",
       "      <td>5676.63</td>\n",
       "      <td>15.5</td>\n",
       "      <td>NaN</td>\n",
       "      <td>8.0</td>\n",
       "      <td>0.0</td>\n",
       "      <td>41933.0</td>\n",
       "      <td>622380.0</td>\n",
       "      <td>0.0</td>\n",
       "      <td>0.0</td>\n",
       "    </tr>\n",
       "    <tr>\n",
       "      <th>2745</th>\n",
       "      <td>631f1669-564e-44b1-ae52-98caca842c34</td>\n",
       "      <td>0db4f913-6ed6-4bd6-8272-658d7571d827</td>\n",
       "      <td>133672.0</td>\n",
       "      <td>Short Term</td>\n",
       "      <td>732.0</td>\n",
       "      <td>665133.0</td>\n",
       "      <td>10+ years</td>\n",
       "      <td>Home Mortgage</td>\n",
       "      <td>other</td>\n",
       "      <td>1141.71</td>\n",
       "      <td>31.3</td>\n",
       "      <td>NaN</td>\n",
       "      <td>7.0</td>\n",
       "      <td>0.0</td>\n",
       "      <td>35150.0</td>\n",
       "      <td>151888.0</td>\n",
       "      <td>0.0</td>\n",
       "      <td>0.0</td>\n",
       "    </tr>\n",
       "    <tr>\n",
       "      <th>5314</th>\n",
       "      <td>6ea981c1-542e-47df-baf8-cac1a5a7d8ea</td>\n",
       "      <td>74af7987-8e7c-4618-af75-d058c377f91e</td>\n",
       "      <td>346610.0</td>\n",
       "      <td>Short Term</td>\n",
       "      <td>NaN</td>\n",
       "      <td>NaN</td>\n",
       "      <td>1 year</td>\n",
       "      <td>Rent</td>\n",
       "      <td>Debt Consolidation</td>\n",
       "      <td>26402.59</td>\n",
       "      <td>13.9</td>\n",
       "      <td>62.0</td>\n",
       "      <td>29.0</td>\n",
       "      <td>0.0</td>\n",
       "      <td>567454.0</td>\n",
       "      <td>1246762.0</td>\n",
       "      <td>0.0</td>\n",
       "      <td>0.0</td>\n",
       "    </tr>\n",
       "    <tr>\n",
       "      <th>9984</th>\n",
       "      <td>4796d002-6765-4089-9a44-37fb8609bd9a</td>\n",
       "      <td>a78e6f34-9f66-45fb-bbf6-3d03b9a24497</td>\n",
       "      <td>111716.0</td>\n",
       "      <td>Short Term</td>\n",
       "      <td>NaN</td>\n",
       "      <td>NaN</td>\n",
       "      <td>3 years</td>\n",
       "      <td>Home Mortgage</td>\n",
       "      <td>Other</td>\n",
       "      <td>383.61</td>\n",
       "      <td>15.0</td>\n",
       "      <td>66.0</td>\n",
       "      <td>6.0</td>\n",
       "      <td>0.0</td>\n",
       "      <td>10013.0</td>\n",
       "      <td>141416.0</td>\n",
       "      <td>0.0</td>\n",
       "      <td>0.0</td>\n",
       "    </tr>\n",
       "    <tr>\n",
       "      <th>1486</th>\n",
       "      <td>55d5ed41-bc9f-4069-be40-a87c688e1835</td>\n",
       "      <td>16c8b599-9ffd-407f-99cc-4e962aa21d7b</td>\n",
       "      <td>86614.0</td>\n",
       "      <td>Short Term</td>\n",
       "      <td>743.0</td>\n",
       "      <td>327142.0</td>\n",
       "      <td>NaN</td>\n",
       "      <td>Home Mortgage</td>\n",
       "      <td>Debt Consolidation</td>\n",
       "      <td>5943.39</td>\n",
       "      <td>12.3</td>\n",
       "      <td>NaN</td>\n",
       "      <td>9.0</td>\n",
       "      <td>0.0</td>\n",
       "      <td>187055.0</td>\n",
       "      <td>273790.0</td>\n",
       "      <td>0.0</td>\n",
       "      <td>0.0</td>\n",
       "    </tr>\n",
       "    <tr>\n",
       "      <th>2683</th>\n",
       "      <td>e60b6c10-6979-4c68-b764-54dc748d8352</td>\n",
       "      <td>e48d4c3c-11a5-45ac-94ef-1504ddbf9c26</td>\n",
       "      <td>27720.0</td>\n",
       "      <td>Short Term</td>\n",
       "      <td>723.0</td>\n",
       "      <td>657286.0</td>\n",
       "      <td>4 years</td>\n",
       "      <td>Rent</td>\n",
       "      <td>Debt Consolidation</td>\n",
       "      <td>10078.36</td>\n",
       "      <td>12.7</td>\n",
       "      <td>NaN</td>\n",
       "      <td>7.0</td>\n",
       "      <td>1.0</td>\n",
       "      <td>22971.0</td>\n",
       "      <td>165176.0</td>\n",
       "      <td>1.0</td>\n",
       "      <td>0.0</td>\n",
       "    </tr>\n",
       "    <tr>\n",
       "      <th>9501</th>\n",
       "      <td>cac53fcb-9441-4e4e-b4b7-2be2e6def63a</td>\n",
       "      <td>e690eca8-29f6-454c-ae48-4f36c42b3026</td>\n",
       "      <td>332090.0</td>\n",
       "      <td>Short Term</td>\n",
       "      <td>734.0</td>\n",
       "      <td>1051593.0</td>\n",
       "      <td>10+ years</td>\n",
       "      <td>Home Mortgage</td>\n",
       "      <td>Debt Consolidation</td>\n",
       "      <td>25150.49</td>\n",
       "      <td>22.6</td>\n",
       "      <td>68.0</td>\n",
       "      <td>10.0</td>\n",
       "      <td>1.0</td>\n",
       "      <td>111378.0</td>\n",
       "      <td>497904.0</td>\n",
       "      <td>1.0</td>\n",
       "      <td>0.0</td>\n",
       "    </tr>\n",
       "    <tr>\n",
       "      <th>161</th>\n",
       "      <td>a2d200ae-277b-4536-baec-cf670467315f</td>\n",
       "      <td>cf1fb29c-6c02-4d41-a084-c66dbe48c61f</td>\n",
       "      <td>99999999.0</td>\n",
       "      <td>Short Term</td>\n",
       "      <td>709.0</td>\n",
       "      <td>1465394.0</td>\n",
       "      <td>8 years</td>\n",
       "      <td>Home Mortgage</td>\n",
       "      <td>Home Improvements</td>\n",
       "      <td>35413.91</td>\n",
       "      <td>15.2</td>\n",
       "      <td>NaN</td>\n",
       "      <td>19.0</td>\n",
       "      <td>0.0</td>\n",
       "      <td>211489.0</td>\n",
       "      <td>1475166.0</td>\n",
       "      <td>0.0</td>\n",
       "      <td>0.0</td>\n",
       "    </tr>\n",
       "    <tr>\n",
       "      <th>3323</th>\n",
       "      <td>bb868f06-ed71-4fca-aaf6-339c3b2387f1</td>\n",
       "      <td>3f8808a7-9351-4665-a7ca-dea36b54d228</td>\n",
       "      <td>388058.0</td>\n",
       "      <td>Short Term</td>\n",
       "      <td>NaN</td>\n",
       "      <td>NaN</td>\n",
       "      <td>3 years</td>\n",
       "      <td>Home Mortgage</td>\n",
       "      <td>Debt Consolidation</td>\n",
       "      <td>11155.09</td>\n",
       "      <td>9.6</td>\n",
       "      <td>61.0</td>\n",
       "      <td>7.0</td>\n",
       "      <td>0.0</td>\n",
       "      <td>102695.0</td>\n",
       "      <td>273372.0</td>\n",
       "      <td>0.0</td>\n",
       "      <td>0.0</td>\n",
       "    </tr>\n",
       "    <tr>\n",
       "      <th>1185</th>\n",
       "      <td>c43540c9-6fb8-4899-ad6a-7f0392dd86e6</td>\n",
       "      <td>5e4acb96-776a-4268-b2da-d4d689544d47</td>\n",
       "      <td>166166.0</td>\n",
       "      <td>Short Term</td>\n",
       "      <td>727.0</td>\n",
       "      <td>1147980.0</td>\n",
       "      <td>10+ years</td>\n",
       "      <td>Home Mortgage</td>\n",
       "      <td>Other</td>\n",
       "      <td>20759.40</td>\n",
       "      <td>7.4</td>\n",
       "      <td>NaN</td>\n",
       "      <td>13.0</td>\n",
       "      <td>0.0</td>\n",
       "      <td>106096.0</td>\n",
       "      <td>617298.0</td>\n",
       "      <td>0.0</td>\n",
       "      <td>0.0</td>\n",
       "    </tr>\n",
       "    <tr>\n",
       "      <th>7815</th>\n",
       "      <td>deb70a4c-6331-4ceb-b9d8-599c86c63d14</td>\n",
       "      <td>fa9da719-2d7b-4d38-8c6c-f62b5f7b3ea7</td>\n",
       "      <td>260964.0</td>\n",
       "      <td>Short Term</td>\n",
       "      <td>NaN</td>\n",
       "      <td>NaN</td>\n",
       "      <td>7 years</td>\n",
       "      <td>Home Mortgage</td>\n",
       "      <td>Debt Consolidation</td>\n",
       "      <td>12846.47</td>\n",
       "      <td>20.6</td>\n",
       "      <td>25.0</td>\n",
       "      <td>9.0</td>\n",
       "      <td>0.0</td>\n",
       "      <td>267938.0</td>\n",
       "      <td>643676.0</td>\n",
       "      <td>0.0</td>\n",
       "      <td>0.0</td>\n",
       "    </tr>\n",
       "    <tr>\n",
       "      <th>9942</th>\n",
       "      <td>b38adcf2-3522-4fc2-a4fe-af7882fa8cb0</td>\n",
       "      <td>dc992712-194c-4fca-b0d8-20143903a068</td>\n",
       "      <td>414546.0</td>\n",
       "      <td>Long Term</td>\n",
       "      <td>702.0</td>\n",
       "      <td>1361198.0</td>\n",
       "      <td>3 years</td>\n",
       "      <td>Home Mortgage</td>\n",
       "      <td>Debt Consolidation</td>\n",
       "      <td>13611.98</td>\n",
       "      <td>19.6</td>\n",
       "      <td>NaN</td>\n",
       "      <td>14.0</td>\n",
       "      <td>0.0</td>\n",
       "      <td>303848.0</td>\n",
       "      <td>580558.0</td>\n",
       "      <td>0.0</td>\n",
       "      <td>0.0</td>\n",
       "    </tr>\n",
       "    <tr>\n",
       "      <th>3826</th>\n",
       "      <td>728ff34e-3458-45b0-8823-7fc25237a584</td>\n",
       "      <td>74add51f-5317-4db1-8a24-209babfb49e1</td>\n",
       "      <td>115544.0</td>\n",
       "      <td>Short Term</td>\n",
       "      <td>NaN</td>\n",
       "      <td>NaN</td>\n",
       "      <td>10+ years</td>\n",
       "      <td>Rent</td>\n",
       "      <td>Debt Consolidation</td>\n",
       "      <td>5328.55</td>\n",
       "      <td>18.4</td>\n",
       "      <td>NaN</td>\n",
       "      <td>3.0</td>\n",
       "      <td>0.0</td>\n",
       "      <td>75430.0</td>\n",
       "      <td>102520.0</td>\n",
       "      <td>0.0</td>\n",
       "      <td>0.0</td>\n",
       "    </tr>\n",
       "    <tr>\n",
       "      <th>9780</th>\n",
       "      <td>962198de-2a5b-4b99-aff0-0e02ef99316d</td>\n",
       "      <td>33372055-b104-4167-86e4-ca0254a76fc5</td>\n",
       "      <td>203324.0</td>\n",
       "      <td>Short Term</td>\n",
       "      <td>725.0</td>\n",
       "      <td>730835.0</td>\n",
       "      <td>6 years</td>\n",
       "      <td>Rent</td>\n",
       "      <td>Debt Consolidation</td>\n",
       "      <td>17113.87</td>\n",
       "      <td>15.9</td>\n",
       "      <td>NaN</td>\n",
       "      <td>6.0</td>\n",
       "      <td>0.0</td>\n",
       "      <td>68039.0</td>\n",
       "      <td>101134.0</td>\n",
       "      <td>0.0</td>\n",
       "      <td>0.0</td>\n",
       "    </tr>\n",
       "    <tr>\n",
       "      <th>7266</th>\n",
       "      <td>5c1e38a3-b8c0-426a-a40c-9ce8396cb66f</td>\n",
       "      <td>aac417a3-b16a-474d-9be6-e18852f367a6</td>\n",
       "      <td>267146.0</td>\n",
       "      <td>Short Term</td>\n",
       "      <td>725.0</td>\n",
       "      <td>1624614.0</td>\n",
       "      <td>10+ years</td>\n",
       "      <td>Home Mortgage</td>\n",
       "      <td>Debt Consolidation</td>\n",
       "      <td>19901.55</td>\n",
       "      <td>14.9</td>\n",
       "      <td>NaN</td>\n",
       "      <td>14.0</td>\n",
       "      <td>0.0</td>\n",
       "      <td>204497.0</td>\n",
       "      <td>420574.0</td>\n",
       "      <td>0.0</td>\n",
       "      <td>0.0</td>\n",
       "    </tr>\n",
       "    <tr>\n",
       "      <th>9480</th>\n",
       "      <td>d39c9058-f1ed-4176-b30c-a875fdb384e2</td>\n",
       "      <td>141e1b12-41d6-4e58-a431-7327a71461aa</td>\n",
       "      <td>33198.0</td>\n",
       "      <td>Short Term</td>\n",
       "      <td>702.0</td>\n",
       "      <td>764408.0</td>\n",
       "      <td>9 years</td>\n",
       "      <td>Home Mortgage</td>\n",
       "      <td>Debt Consolidation</td>\n",
       "      <td>8153.66</td>\n",
       "      <td>13.7</td>\n",
       "      <td>NaN</td>\n",
       "      <td>15.0</td>\n",
       "      <td>0.0</td>\n",
       "      <td>364021.0</td>\n",
       "      <td>670142.0</td>\n",
       "      <td>0.0</td>\n",
       "      <td>0.0</td>\n",
       "    </tr>\n",
       "    <tr>\n",
       "      <th>5925</th>\n",
       "      <td>48c6d1d2-478d-4ed3-86fa-50ae91a33638</td>\n",
       "      <td>e743655a-a383-420a-8613-d114b8021d8e</td>\n",
       "      <td>549230.0</td>\n",
       "      <td>Long Term</td>\n",
       "      <td>689.0</td>\n",
       "      <td>3965433.0</td>\n",
       "      <td>10+ years</td>\n",
       "      <td>Home Mortgage</td>\n",
       "      <td>Debt Consolidation</td>\n",
       "      <td>34036.79</td>\n",
       "      <td>26.0</td>\n",
       "      <td>58.0</td>\n",
       "      <td>8.0</td>\n",
       "      <td>0.0</td>\n",
       "      <td>408671.0</td>\n",
       "      <td>553454.0</td>\n",
       "      <td>0.0</td>\n",
       "      <td>0.0</td>\n",
       "    </tr>\n",
       "    <tr>\n",
       "      <th>9153</th>\n",
       "      <td>5d93d7b3-206c-42bf-b867-fe5645f3c9d3</td>\n",
       "      <td>878e9dda-e006-4269-a347-7f2c51bd16bb</td>\n",
       "      <td>263560.0</td>\n",
       "      <td>Long Term</td>\n",
       "      <td>722.0</td>\n",
       "      <td>1049256.0</td>\n",
       "      <td>&lt; 1 year</td>\n",
       "      <td>Home Mortgage</td>\n",
       "      <td>Debt Consolidation</td>\n",
       "      <td>21334.91</td>\n",
       "      <td>22.7</td>\n",
       "      <td>15.0</td>\n",
       "      <td>13.0</td>\n",
       "      <td>1.0</td>\n",
       "      <td>153881.0</td>\n",
       "      <td>267938.0</td>\n",
       "      <td>1.0</td>\n",
       "      <td>0.0</td>\n",
       "    </tr>\n",
       "    <tr>\n",
       "      <th>10290</th>\n",
       "      <td>NaN</td>\n",
       "      <td>NaN</td>\n",
       "      <td>NaN</td>\n",
       "      <td>NaN</td>\n",
       "      <td>NaN</td>\n",
       "      <td>NaN</td>\n",
       "      <td>NaN</td>\n",
       "      <td>NaN</td>\n",
       "      <td>NaN</td>\n",
       "      <td>NaN</td>\n",
       "      <td>NaN</td>\n",
       "      <td>NaN</td>\n",
       "      <td>NaN</td>\n",
       "      <td>NaN</td>\n",
       "      <td>NaN</td>\n",
       "      <td>NaN</td>\n",
       "      <td>NaN</td>\n",
       "      <td>NaN</td>\n",
       "    </tr>\n",
       "    <tr>\n",
       "      <th>3117</th>\n",
       "      <td>6568dc99-7f54-4566-a18a-0cbd526315cb</td>\n",
       "      <td>ff7fc7eb-0904-4d5d-826b-8cb6a9e2c206</td>\n",
       "      <td>99999999.0</td>\n",
       "      <td>Short Term</td>\n",
       "      <td>709.0</td>\n",
       "      <td>1140114.0</td>\n",
       "      <td>10+ years</td>\n",
       "      <td>Home Mortgage</td>\n",
       "      <td>Debt Consolidation</td>\n",
       "      <td>9880.95</td>\n",
       "      <td>13.9</td>\n",
       "      <td>67.0</td>\n",
       "      <td>11.0</td>\n",
       "      <td>0.0</td>\n",
       "      <td>346351.0</td>\n",
       "      <td>547844.0</td>\n",
       "      <td>0.0</td>\n",
       "      <td>0.0</td>\n",
       "    </tr>\n",
       "    <tr>\n",
       "      <th>1842</th>\n",
       "      <td>b2df4e19-c4ba-4765-ac4c-5d35d09edb9a</td>\n",
       "      <td>ed6d3a88-2d13-47a9-a780-6a82d4046e37</td>\n",
       "      <td>430672.0</td>\n",
       "      <td>Long Term</td>\n",
       "      <td>677.0</td>\n",
       "      <td>1208818.0</td>\n",
       "      <td>2 years</td>\n",
       "      <td>Rent</td>\n",
       "      <td>Debt Consolidation</td>\n",
       "      <td>21053.52</td>\n",
       "      <td>12.9</td>\n",
       "      <td>NaN</td>\n",
       "      <td>8.0</td>\n",
       "      <td>0.0</td>\n",
       "      <td>416024.0</td>\n",
       "      <td>700172.0</td>\n",
       "      <td>0.0</td>\n",
       "      <td>0.0</td>\n",
       "    </tr>\n",
       "    <tr>\n",
       "      <th>5870</th>\n",
       "      <td>3df6ff34-a3b4-49f4-a72a-e23fc77f4072</td>\n",
       "      <td>ffffc64c-8637-4a08-b2e7-5b67bd8da124</td>\n",
       "      <td>591888.0</td>\n",
       "      <td>Long Term</td>\n",
       "      <td>633.0</td>\n",
       "      <td>1161774.0</td>\n",
       "      <td>10+ years</td>\n",
       "      <td>Rent</td>\n",
       "      <td>Debt Consolidation</td>\n",
       "      <td>32336.10</td>\n",
       "      <td>14.4</td>\n",
       "      <td>45.0</td>\n",
       "      <td>21.0</td>\n",
       "      <td>1.0</td>\n",
       "      <td>237633.0</td>\n",
       "      <td>611468.0</td>\n",
       "      <td>0.0</td>\n",
       "      <td>1.0</td>\n",
       "    </tr>\n",
       "    <tr>\n",
       "      <th>5104</th>\n",
       "      <td>d36a1aa1-6882-4d76-b71b-fc4e479e8874</td>\n",
       "      <td>9461dfaa-e094-4dcf-aa1d-22b2281afcf5</td>\n",
       "      <td>134288.0</td>\n",
       "      <td>Short Term</td>\n",
       "      <td>7260.0</td>\n",
       "      <td>1431840.0</td>\n",
       "      <td>8 years</td>\n",
       "      <td>Own Home</td>\n",
       "      <td>Home Improvements</td>\n",
       "      <td>2458.03</td>\n",
       "      <td>9.5</td>\n",
       "      <td>NaN</td>\n",
       "      <td>5.0</td>\n",
       "      <td>0.0</td>\n",
       "      <td>43263.0</td>\n",
       "      <td>113850.0</td>\n",
       "      <td>0.0</td>\n",
       "      <td>0.0</td>\n",
       "    </tr>\n",
       "    <tr>\n",
       "      <th>2324</th>\n",
       "      <td>3e773c58-d5fd-439e-8e31-25990fe2026a</td>\n",
       "      <td>9824dde9-92dd-4508-9f99-3385261ac14f</td>\n",
       "      <td>99999999.0</td>\n",
       "      <td>Long Term</td>\n",
       "      <td>693.0</td>\n",
       "      <td>4755548.0</td>\n",
       "      <td>8 years</td>\n",
       "      <td>Rent</td>\n",
       "      <td>Debt Consolidation</td>\n",
       "      <td>66141.66</td>\n",
       "      <td>40.0</td>\n",
       "      <td>NaN</td>\n",
       "      <td>16.0</td>\n",
       "      <td>0.0</td>\n",
       "      <td>883918.0</td>\n",
       "      <td>1596716.0</td>\n",
       "      <td>0.0</td>\n",
       "      <td>0.0</td>\n",
       "    </tr>\n",
       "    <tr>\n",
       "      <th>4632</th>\n",
       "      <td>856f2b98-5ae1-4a47-ab3d-cc2f15619a22</td>\n",
       "      <td>8c5516a5-1c28-4dd0-9e5f-a1d89342479c</td>\n",
       "      <td>128920.0</td>\n",
       "      <td>Short Term</td>\n",
       "      <td>NaN</td>\n",
       "      <td>NaN</td>\n",
       "      <td>1 year</td>\n",
       "      <td>Home Mortgage</td>\n",
       "      <td>Debt Consolidation</td>\n",
       "      <td>8466.78</td>\n",
       "      <td>41.6</td>\n",
       "      <td>25.0</td>\n",
       "      <td>5.0</td>\n",
       "      <td>0.0</td>\n",
       "      <td>220001.0</td>\n",
       "      <td>602206.0</td>\n",
       "      <td>0.0</td>\n",
       "      <td>0.0</td>\n",
       "    </tr>\n",
       "    <tr>\n",
       "      <th>7947</th>\n",
       "      <td>8acef7fc-6ebe-4cef-a7f6-304caabcb5ad</td>\n",
       "      <td>5246b473-2128-4e42-a1af-8cc6240eed2e</td>\n",
       "      <td>349844.0</td>\n",
       "      <td>Short Term</td>\n",
       "      <td>727.0</td>\n",
       "      <td>1605158.0</td>\n",
       "      <td>10+ years</td>\n",
       "      <td>Home Mortgage</td>\n",
       "      <td>Debt Consolidation</td>\n",
       "      <td>4320.41</td>\n",
       "      <td>19.9</td>\n",
       "      <td>9.0</td>\n",
       "      <td>11.0</td>\n",
       "      <td>1.0</td>\n",
       "      <td>192052.0</td>\n",
       "      <td>599390.0</td>\n",
       "      <td>0.0</td>\n",
       "      <td>0.0</td>\n",
       "    </tr>\n",
       "    <tr>\n",
       "      <th>1649</th>\n",
       "      <td>8447943b-c04e-4079-9b7f-4eda250f767d</td>\n",
       "      <td>01a4fe56-881b-4484-93a6-491a4ae09553</td>\n",
       "      <td>151206.0</td>\n",
       "      <td>Short Term</td>\n",
       "      <td>711.0</td>\n",
       "      <td>1037077.0</td>\n",
       "      <td>7 years</td>\n",
       "      <td>Rent</td>\n",
       "      <td>Debt Consolidation</td>\n",
       "      <td>24890.00</td>\n",
       "      <td>15.4</td>\n",
       "      <td>19.0</td>\n",
       "      <td>9.0</td>\n",
       "      <td>0.0</td>\n",
       "      <td>94563.0</td>\n",
       "      <td>233464.0</td>\n",
       "      <td>0.0</td>\n",
       "      <td>0.0</td>\n",
       "    </tr>\n",
       "    <tr>\n",
       "      <th>1552</th>\n",
       "      <td>72c48802-3337-4884-99c5-f88faf1a4fec</td>\n",
       "      <td>f29ee86d-b0c8-4321-8e35-0065fd280caa</td>\n",
       "      <td>99999999.0</td>\n",
       "      <td>Short Term</td>\n",
       "      <td>750.0</td>\n",
       "      <td>1614506.0</td>\n",
       "      <td>9 years</td>\n",
       "      <td>Home Mortgage</td>\n",
       "      <td>Debt Consolidation</td>\n",
       "      <td>19508.63</td>\n",
       "      <td>19.6</td>\n",
       "      <td>11.0</td>\n",
       "      <td>11.0</td>\n",
       "      <td>0.0</td>\n",
       "      <td>445854.0</td>\n",
       "      <td>1870484.0</td>\n",
       "      <td>0.0</td>\n",
       "      <td>0.0</td>\n",
       "    </tr>\n",
       "    <tr>\n",
       "      <th>8751</th>\n",
       "      <td>bfc13332-5b1d-4a25-8b4a-957b1c38369f</td>\n",
       "      <td>39f9b235-0587-4a69-b937-18c4d0f9df2f</td>\n",
       "      <td>495770.0</td>\n",
       "      <td>Short Term</td>\n",
       "      <td>720.0</td>\n",
       "      <td>1654254.0</td>\n",
       "      <td>10+ years</td>\n",
       "      <td>Rent</td>\n",
       "      <td>Debt Consolidation</td>\n",
       "      <td>24400.18</td>\n",
       "      <td>19.3</td>\n",
       "      <td>30.0</td>\n",
       "      <td>18.0</td>\n",
       "      <td>0.0</td>\n",
       "      <td>484823.0</td>\n",
       "      <td>901098.0</td>\n",
       "      <td>0.0</td>\n",
       "      <td>0.0</td>\n",
       "    </tr>\n",
       "    <tr>\n",
       "      <th>3315</th>\n",
       "      <td>fe60a9b3-45ec-4059-95b2-bca47a94ab35</td>\n",
       "      <td>e17d08d4-9e30-4f14-a340-02230ab991b6</td>\n",
       "      <td>704902.0</td>\n",
       "      <td>Short Term</td>\n",
       "      <td>731.0</td>\n",
       "      <td>4846900.0</td>\n",
       "      <td>10+ years</td>\n",
       "      <td>Home Mortgage</td>\n",
       "      <td>Business Loan</td>\n",
       "      <td>31747.29</td>\n",
       "      <td>17.7</td>\n",
       "      <td>NaN</td>\n",
       "      <td>11.0</td>\n",
       "      <td>2.0</td>\n",
       "      <td>39463.0</td>\n",
       "      <td>315040.0</td>\n",
       "      <td>0.0</td>\n",
       "      <td>0.0</td>\n",
       "    </tr>\n",
       "    <tr>\n",
       "      <th>1504</th>\n",
       "      <td>2c2e6f59-418a-4a73-87ea-c0c364e3ced1</td>\n",
       "      <td>8ba64ffb-0ab3-4cd2-9be1-2e30ccdadc6f</td>\n",
       "      <td>188936.0</td>\n",
       "      <td>Short Term</td>\n",
       "      <td>737.0</td>\n",
       "      <td>469186.0</td>\n",
       "      <td>2 years</td>\n",
       "      <td>Rent</td>\n",
       "      <td>Debt Consolidation</td>\n",
       "      <td>13606.47</td>\n",
       "      <td>16.3</td>\n",
       "      <td>NaN</td>\n",
       "      <td>15.0</td>\n",
       "      <td>0.0</td>\n",
       "      <td>461548.0</td>\n",
       "      <td>777920.0</td>\n",
       "      <td>0.0</td>\n",
       "      <td>0.0</td>\n",
       "    </tr>\n",
       "    <tr>\n",
       "      <th>6196</th>\n",
       "      <td>c6454093-0af0-46bd-92af-831d3a3f3b37</td>\n",
       "      <td>6fd880a8-e78c-4187-aef9-189edbb43c74</td>\n",
       "      <td>433840.0</td>\n",
       "      <td>Long Term</td>\n",
       "      <td>671.0</td>\n",
       "      <td>2060740.0</td>\n",
       "      <td>2 years</td>\n",
       "      <td>Home Mortgage</td>\n",
       "      <td>Debt Consolidation</td>\n",
       "      <td>6388.37</td>\n",
       "      <td>6.4</td>\n",
       "      <td>NaN</td>\n",
       "      <td>5.0</td>\n",
       "      <td>0.0</td>\n",
       "      <td>116527.0</td>\n",
       "      <td>340714.0</td>\n",
       "      <td>0.0</td>\n",
       "      <td>0.0</td>\n",
       "    </tr>\n",
       "    <tr>\n",
       "      <th>1148</th>\n",
       "      <td>15f3e969-b954-478c-918f-de1aafc021e2</td>\n",
       "      <td>0cab33b3-e4ac-44a3-8cf9-e91aa5d4dcfa</td>\n",
       "      <td>435820.0</td>\n",
       "      <td>Short Term</td>\n",
       "      <td>734.0</td>\n",
       "      <td>2728837.0</td>\n",
       "      <td>1 year</td>\n",
       "      <td>Home Mortgage</td>\n",
       "      <td>Debt Consolidation</td>\n",
       "      <td>34269.54</td>\n",
       "      <td>23.6</td>\n",
       "      <td>65.0</td>\n",
       "      <td>15.0</td>\n",
       "      <td>0.0</td>\n",
       "      <td>166934.0</td>\n",
       "      <td>565180.0</td>\n",
       "      <td>0.0</td>\n",
       "      <td>0.0</td>\n",
       "    </tr>\n",
       "    <tr>\n",
       "      <th>2149</th>\n",
       "      <td>806894d6-6d13-41c9-85b2-ce5f640bfe8a</td>\n",
       "      <td>b470aeaa-fee0-40e4-b17a-3fa251b9e751</td>\n",
       "      <td>261778.0</td>\n",
       "      <td>Short Term</td>\n",
       "      <td>715.0</td>\n",
       "      <td>1030199.0</td>\n",
       "      <td>2 years</td>\n",
       "      <td>Rent</td>\n",
       "      <td>Buy House</td>\n",
       "      <td>14680.35</td>\n",
       "      <td>15.7</td>\n",
       "      <td>32.0</td>\n",
       "      <td>8.0</td>\n",
       "      <td>0.0</td>\n",
       "      <td>9538.0</td>\n",
       "      <td>37576.0</td>\n",
       "      <td>0.0</td>\n",
       "      <td>0.0</td>\n",
       "    </tr>\n",
       "    <tr>\n",
       "      <th>3040</th>\n",
       "      <td>8a441e7a-a3de-43dc-be96-7f5c01f2998f</td>\n",
       "      <td>7617b221-c9db-42b9-9d4a-7fbb84dc333f</td>\n",
       "      <td>117590.0</td>\n",
       "      <td>Short Term</td>\n",
       "      <td>744.0</td>\n",
       "      <td>496489.0</td>\n",
       "      <td>7 years</td>\n",
       "      <td>Rent</td>\n",
       "      <td>other</td>\n",
       "      <td>9987.54</td>\n",
       "      <td>13.0</td>\n",
       "      <td>NaN</td>\n",
       "      <td>9.0</td>\n",
       "      <td>0.0</td>\n",
       "      <td>55499.0</td>\n",
       "      <td>246224.0</td>\n",
       "      <td>0.0</td>\n",
       "      <td>0.0</td>\n",
       "    </tr>\n",
       "    <tr>\n",
       "      <th>5238</th>\n",
       "      <td>cf847dca-3503-4921-9143-997adbee3f5d</td>\n",
       "      <td>f35d4f59-525d-4f66-aaf1-eef950b1e0fa</td>\n",
       "      <td>99999999.0</td>\n",
       "      <td>Short Term</td>\n",
       "      <td>728.0</td>\n",
       "      <td>1388938.0</td>\n",
       "      <td>NaN</td>\n",
       "      <td>Own Home</td>\n",
       "      <td>Debt Consolidation</td>\n",
       "      <td>20486.75</td>\n",
       "      <td>34.1</td>\n",
       "      <td>NaN</td>\n",
       "      <td>23.0</td>\n",
       "      <td>0.0</td>\n",
       "      <td>847495.0</td>\n",
       "      <td>1823998.0</td>\n",
       "      <td>0.0</td>\n",
       "      <td>0.0</td>\n",
       "    </tr>\n",
       "    <tr>\n",
       "      <th>5267</th>\n",
       "      <td>a66c0ac5-5a4a-4179-9b58-287e4a5b0d76</td>\n",
       "      <td>8c61e0e2-388c-4f4c-916d-bd990910352f</td>\n",
       "      <td>99814.0</td>\n",
       "      <td>Short Term</td>\n",
       "      <td>740.0</td>\n",
       "      <td>862011.0</td>\n",
       "      <td>10+ years</td>\n",
       "      <td>Home Mortgage</td>\n",
       "      <td>Other</td>\n",
       "      <td>7470.80</td>\n",
       "      <td>28.6</td>\n",
       "      <td>14.0</td>\n",
       "      <td>8.0</td>\n",
       "      <td>0.0</td>\n",
       "      <td>69502.0</td>\n",
       "      <td>313126.0</td>\n",
       "      <td>0.0</td>\n",
       "      <td>0.0</td>\n",
       "    </tr>\n",
       "  </tbody>\n",
       "</table>\n",
       "</div>"
      ],
      "text/plain": [
       "                                    Loan ID  \\\n",
       "2974   9aada557-6025-4e06-8bce-494c96abf01c   \n",
       "94     1eb4c0ae-7d6b-4764-8b74-60a24e341cd7   \n",
       "4687   7bbaf058-ee93-47ac-8c27-a777951e1634   \n",
       "6578   ea8c1417-25ab-49fc-ad61-9ca232966efd   \n",
       "282    7a38c71c-2ec7-40e6-82ca-d17404b2c8fa   \n",
       "8222   d591dc8c-f7a7-4698-aa4d-b7e12340bfed   \n",
       "4943   0da99812-d3f6-427d-8d6c-fe91c3171498   \n",
       "7114   745d95f8-985f-453b-bf73-7dd97e30b1e1   \n",
       "4769   fbaaaaf3-459e-44c6-a584-9bf19f2f4466   \n",
       "371    a503c8aa-2eb4-477c-86c0-56a69c55aaa2   \n",
       "7391   38a85f3d-bc56-433e-a3ea-69f50a985f1e   \n",
       "1947   4134e333-06e0-4f95-beb7-8a778f270bd8   \n",
       "1667   f8584ff1-d476-4c17-8133-3ec15a375528   \n",
       "6229   09f9084e-0f84-4c8e-bd6e-3a1ec3a8ef5d   \n",
       "2745   631f1669-564e-44b1-ae52-98caca842c34   \n",
       "5314   6ea981c1-542e-47df-baf8-cac1a5a7d8ea   \n",
       "9984   4796d002-6765-4089-9a44-37fb8609bd9a   \n",
       "1486   55d5ed41-bc9f-4069-be40-a87c688e1835   \n",
       "2683   e60b6c10-6979-4c68-b764-54dc748d8352   \n",
       "9501   cac53fcb-9441-4e4e-b4b7-2be2e6def63a   \n",
       "161    a2d200ae-277b-4536-baec-cf670467315f   \n",
       "3323   bb868f06-ed71-4fca-aaf6-339c3b2387f1   \n",
       "1185   c43540c9-6fb8-4899-ad6a-7f0392dd86e6   \n",
       "7815   deb70a4c-6331-4ceb-b9d8-599c86c63d14   \n",
       "9942   b38adcf2-3522-4fc2-a4fe-af7882fa8cb0   \n",
       "3826   728ff34e-3458-45b0-8823-7fc25237a584   \n",
       "9780   962198de-2a5b-4b99-aff0-0e02ef99316d   \n",
       "7266   5c1e38a3-b8c0-426a-a40c-9ce8396cb66f   \n",
       "9480   d39c9058-f1ed-4176-b30c-a875fdb384e2   \n",
       "5925   48c6d1d2-478d-4ed3-86fa-50ae91a33638   \n",
       "9153   5d93d7b3-206c-42bf-b867-fe5645f3c9d3   \n",
       "10290                                   NaN   \n",
       "3117   6568dc99-7f54-4566-a18a-0cbd526315cb   \n",
       "1842   b2df4e19-c4ba-4765-ac4c-5d35d09edb9a   \n",
       "5870   3df6ff34-a3b4-49f4-a72a-e23fc77f4072   \n",
       "5104   d36a1aa1-6882-4d76-b71b-fc4e479e8874   \n",
       "2324   3e773c58-d5fd-439e-8e31-25990fe2026a   \n",
       "4632   856f2b98-5ae1-4a47-ab3d-cc2f15619a22   \n",
       "7947   8acef7fc-6ebe-4cef-a7f6-304caabcb5ad   \n",
       "1649   8447943b-c04e-4079-9b7f-4eda250f767d   \n",
       "1552   72c48802-3337-4884-99c5-f88faf1a4fec   \n",
       "8751   bfc13332-5b1d-4a25-8b4a-957b1c38369f   \n",
       "3315   fe60a9b3-45ec-4059-95b2-bca47a94ab35   \n",
       "1504   2c2e6f59-418a-4a73-87ea-c0c364e3ced1   \n",
       "6196   c6454093-0af0-46bd-92af-831d3a3f3b37   \n",
       "1148   15f3e969-b954-478c-918f-de1aafc021e2   \n",
       "2149   806894d6-6d13-41c9-85b2-ce5f640bfe8a   \n",
       "3040   8a441e7a-a3de-43dc-be96-7f5c01f2998f   \n",
       "5238   cf847dca-3503-4921-9143-997adbee3f5d   \n",
       "5267   a66c0ac5-5a4a-4179-9b58-287e4a5b0d76   \n",
       "\n",
       "                                Customer ID  Current Loan Amount        Term  \\\n",
       "2974   012f7488-4a9d-4a7c-b8f4-432306bf2400             435204.0   Long Term   \n",
       "94     6d8b52bc-ace0-407b-be61-317de1f51e98             141724.0  Short Term   \n",
       "4687   7c13a8fc-8336-4ad9-8c8f-d6d0c2cdd940             443564.0   Long Term   \n",
       "6578   8fd99b27-20b7-436c-b057-f78f654de27e             659648.0   Long Term   \n",
       "282    0c0c4826-a564-4464-a6e2-9fa47b218ef6             221144.0   Long Term   \n",
       "8222   0c35e736-d79f-4b45-aa4b-e13389e39c7f           99999999.0  Short Term   \n",
       "4943   081bb78a-74eb-4c9f-97e9-b5c0d9010fd7             355124.0   Long Term   \n",
       "7114   d4c98754-1ec2-44a6-a1bc-13498f1895bb           99999999.0  Short Term   \n",
       "4769   00a0d58c-88a7-4828-9720-391b3fe73e0b             261492.0  Short Term   \n",
       "371    d7447d62-f384-4afc-ba41-4bcc63a0ac1b             317966.0  Short Term   \n",
       "7391   2204fa72-6e6b-44ce-a504-8b97fd2acd37              67496.0  Short Term   \n",
       "1947   6e3a3172-658a-46cd-ae69-6c62acc4e347             391160.0   Long Term   \n",
       "1667   22a596d4-ff9f-48b9-b94a-62b1071f4bcd              92796.0  Short Term   \n",
       "6229   1f53ed0b-b613-4b15-a061-45874b6404ac             263714.0  Short Term   \n",
       "2745   0db4f913-6ed6-4bd6-8272-658d7571d827             133672.0  Short Term   \n",
       "5314   74af7987-8e7c-4618-af75-d058c377f91e             346610.0  Short Term   \n",
       "9984   a78e6f34-9f66-45fb-bbf6-3d03b9a24497             111716.0  Short Term   \n",
       "1486   16c8b599-9ffd-407f-99cc-4e962aa21d7b              86614.0  Short Term   \n",
       "2683   e48d4c3c-11a5-45ac-94ef-1504ddbf9c26              27720.0  Short Term   \n",
       "9501   e690eca8-29f6-454c-ae48-4f36c42b3026             332090.0  Short Term   \n",
       "161    cf1fb29c-6c02-4d41-a084-c66dbe48c61f           99999999.0  Short Term   \n",
       "3323   3f8808a7-9351-4665-a7ca-dea36b54d228             388058.0  Short Term   \n",
       "1185   5e4acb96-776a-4268-b2da-d4d689544d47             166166.0  Short Term   \n",
       "7815   fa9da719-2d7b-4d38-8c6c-f62b5f7b3ea7             260964.0  Short Term   \n",
       "9942   dc992712-194c-4fca-b0d8-20143903a068             414546.0   Long Term   \n",
       "3826   74add51f-5317-4db1-8a24-209babfb49e1             115544.0  Short Term   \n",
       "9780   33372055-b104-4167-86e4-ca0254a76fc5             203324.0  Short Term   \n",
       "7266   aac417a3-b16a-474d-9be6-e18852f367a6             267146.0  Short Term   \n",
       "9480   141e1b12-41d6-4e58-a431-7327a71461aa              33198.0  Short Term   \n",
       "5925   e743655a-a383-420a-8613-d114b8021d8e             549230.0   Long Term   \n",
       "9153   878e9dda-e006-4269-a347-7f2c51bd16bb             263560.0   Long Term   \n",
       "10290                                   NaN                  NaN         NaN   \n",
       "3117   ff7fc7eb-0904-4d5d-826b-8cb6a9e2c206           99999999.0  Short Term   \n",
       "1842   ed6d3a88-2d13-47a9-a780-6a82d4046e37             430672.0   Long Term   \n",
       "5870   ffffc64c-8637-4a08-b2e7-5b67bd8da124             591888.0   Long Term   \n",
       "5104   9461dfaa-e094-4dcf-aa1d-22b2281afcf5             134288.0  Short Term   \n",
       "2324   9824dde9-92dd-4508-9f99-3385261ac14f           99999999.0   Long Term   \n",
       "4632   8c5516a5-1c28-4dd0-9e5f-a1d89342479c             128920.0  Short Term   \n",
       "7947   5246b473-2128-4e42-a1af-8cc6240eed2e             349844.0  Short Term   \n",
       "1649   01a4fe56-881b-4484-93a6-491a4ae09553             151206.0  Short Term   \n",
       "1552   f29ee86d-b0c8-4321-8e35-0065fd280caa           99999999.0  Short Term   \n",
       "8751   39f9b235-0587-4a69-b937-18c4d0f9df2f             495770.0  Short Term   \n",
       "3315   e17d08d4-9e30-4f14-a340-02230ab991b6             704902.0  Short Term   \n",
       "1504   8ba64ffb-0ab3-4cd2-9be1-2e30ccdadc6f             188936.0  Short Term   \n",
       "6196   6fd880a8-e78c-4187-aef9-189edbb43c74             433840.0   Long Term   \n",
       "1148   0cab33b3-e4ac-44a3-8cf9-e91aa5d4dcfa             435820.0  Short Term   \n",
       "2149   b470aeaa-fee0-40e4-b17a-3fa251b9e751             261778.0  Short Term   \n",
       "3040   7617b221-c9db-42b9-9d4a-7fbb84dc333f             117590.0  Short Term   \n",
       "5238   f35d4f59-525d-4f66-aaf1-eef950b1e0fa           99999999.0  Short Term   \n",
       "5267   8c61e0e2-388c-4f4c-916d-bd990910352f              99814.0  Short Term   \n",
       "\n",
       "       Credit Score  Annual Income Years in current job Home Ownership  \\\n",
       "2974            NaN            NaN            10+ years  Home Mortgage   \n",
       "94           7150.0       847400.0              5 years           Rent   \n",
       "4687          721.0      2145233.0              9 years  Home Mortgage   \n",
       "6578          688.0      1358728.0              3 years  Home Mortgage   \n",
       "282           665.0       611154.0              2 years       Own Home   \n",
       "8222          747.0      1329069.0             < 1 year  Home Mortgage   \n",
       "4943          677.0      1003371.0              3 years           Rent   \n",
       "7114          742.0      2396983.0            10+ years  Home Mortgage   \n",
       "4769          742.0       828058.0              6 years       Own Home   \n",
       "371           711.0      1830745.0              7 years           Rent   \n",
       "7391          716.0       291422.0              3 years       Own Home   \n",
       "1947          690.0       844569.0              4 years           Rent   \n",
       "1667          714.0       476235.0              2 years           Rent   \n",
       "6229          751.0       683240.0              6 years       Own Home   \n",
       "2745          732.0       665133.0            10+ years  Home Mortgage   \n",
       "5314            NaN            NaN               1 year           Rent   \n",
       "9984            NaN            NaN              3 years  Home Mortgage   \n",
       "1486          743.0       327142.0                  NaN  Home Mortgage   \n",
       "2683          723.0       657286.0              4 years           Rent   \n",
       "9501          734.0      1051593.0            10+ years  Home Mortgage   \n",
       "161           709.0      1465394.0              8 years  Home Mortgage   \n",
       "3323            NaN            NaN              3 years  Home Mortgage   \n",
       "1185          727.0      1147980.0            10+ years  Home Mortgage   \n",
       "7815            NaN            NaN              7 years  Home Mortgage   \n",
       "9942          702.0      1361198.0              3 years  Home Mortgage   \n",
       "3826            NaN            NaN            10+ years           Rent   \n",
       "9780          725.0       730835.0              6 years           Rent   \n",
       "7266          725.0      1624614.0            10+ years  Home Mortgage   \n",
       "9480          702.0       764408.0              9 years  Home Mortgage   \n",
       "5925          689.0      3965433.0            10+ years  Home Mortgage   \n",
       "9153          722.0      1049256.0             < 1 year  Home Mortgage   \n",
       "10290           NaN            NaN                  NaN            NaN   \n",
       "3117          709.0      1140114.0            10+ years  Home Mortgage   \n",
       "1842          677.0      1208818.0              2 years           Rent   \n",
       "5870          633.0      1161774.0            10+ years           Rent   \n",
       "5104         7260.0      1431840.0              8 years       Own Home   \n",
       "2324          693.0      4755548.0              8 years           Rent   \n",
       "4632            NaN            NaN               1 year  Home Mortgage   \n",
       "7947          727.0      1605158.0            10+ years  Home Mortgage   \n",
       "1649          711.0      1037077.0              7 years           Rent   \n",
       "1552          750.0      1614506.0              9 years  Home Mortgage   \n",
       "8751          720.0      1654254.0            10+ years           Rent   \n",
       "3315          731.0      4846900.0            10+ years  Home Mortgage   \n",
       "1504          737.0       469186.0              2 years           Rent   \n",
       "6196          671.0      2060740.0              2 years  Home Mortgage   \n",
       "1148          734.0      2728837.0               1 year  Home Mortgage   \n",
       "2149          715.0      1030199.0              2 years           Rent   \n",
       "3040          744.0       496489.0              7 years           Rent   \n",
       "5238          728.0      1388938.0                  NaN       Own Home   \n",
       "5267          740.0       862011.0            10+ years  Home Mortgage   \n",
       "\n",
       "                  Purpose  Monthly Debt  Years of Credit History  \\\n",
       "2974   Debt Consolidation      18182.05                     25.1   \n",
       "94     Debt Consolidation      14405.61                     13.8   \n",
       "4687   Debt Consolidation      29139.35                     17.0   \n",
       "6578   Debt Consolidation      44951.15                     17.8   \n",
       "282    Debt Consolidation      14566.16                     10.9   \n",
       "8222   Debt Consolidation      20268.25                     20.9   \n",
       "4943            Buy a Car      11965.25                     27.6   \n",
       "7114   Debt Consolidation      16599.16                     19.6   \n",
       "4769   Debt Consolidation      15526.04                     18.2   \n",
       "371    Debt Consolidation      14234.04                      9.8   \n",
       "7391   Debt Consolidation       5585.43                      6.0   \n",
       "1947   Debt Consolidation      21395.71                     11.4   \n",
       "1667            Buy House       9127.79                      9.2   \n",
       "6229   Debt Consolidation       5676.63                     15.5   \n",
       "2745                other       1141.71                     31.3   \n",
       "5314   Debt Consolidation      26402.59                     13.9   \n",
       "9984                Other        383.61                     15.0   \n",
       "1486   Debt Consolidation       5943.39                     12.3   \n",
       "2683   Debt Consolidation      10078.36                     12.7   \n",
       "9501   Debt Consolidation      25150.49                     22.6   \n",
       "161     Home Improvements      35413.91                     15.2   \n",
       "3323   Debt Consolidation      11155.09                      9.6   \n",
       "1185                Other      20759.40                      7.4   \n",
       "7815   Debt Consolidation      12846.47                     20.6   \n",
       "9942   Debt Consolidation      13611.98                     19.6   \n",
       "3826   Debt Consolidation       5328.55                     18.4   \n",
       "9780   Debt Consolidation      17113.87                     15.9   \n",
       "7266   Debt Consolidation      19901.55                     14.9   \n",
       "9480   Debt Consolidation       8153.66                     13.7   \n",
       "5925   Debt Consolidation      34036.79                     26.0   \n",
       "9153   Debt Consolidation      21334.91                     22.7   \n",
       "10290                 NaN           NaN                      NaN   \n",
       "3117   Debt Consolidation       9880.95                     13.9   \n",
       "1842   Debt Consolidation      21053.52                     12.9   \n",
       "5870   Debt Consolidation      32336.10                     14.4   \n",
       "5104    Home Improvements       2458.03                      9.5   \n",
       "2324   Debt Consolidation      66141.66                     40.0   \n",
       "4632   Debt Consolidation       8466.78                     41.6   \n",
       "7947   Debt Consolidation       4320.41                     19.9   \n",
       "1649   Debt Consolidation      24890.00                     15.4   \n",
       "1552   Debt Consolidation      19508.63                     19.6   \n",
       "8751   Debt Consolidation      24400.18                     19.3   \n",
       "3315        Business Loan      31747.29                     17.7   \n",
       "1504   Debt Consolidation      13606.47                     16.3   \n",
       "6196   Debt Consolidation       6388.37                      6.4   \n",
       "1148   Debt Consolidation      34269.54                     23.6   \n",
       "2149            Buy House      14680.35                     15.7   \n",
       "3040                other       9987.54                     13.0   \n",
       "5238   Debt Consolidation      20486.75                     34.1   \n",
       "5267                Other       7470.80                     28.6   \n",
       "\n",
       "       Months since last delinquent  Number of Open Accounts  \\\n",
       "2974                           14.0                      8.0   \n",
       "94                             66.0                      8.0   \n",
       "4687                            4.0                     14.0   \n",
       "6578                           33.0                     24.0   \n",
       "282                             NaN                     17.0   \n",
       "8222                            NaN                     13.0   \n",
       "4943                            NaN                      8.0   \n",
       "7114                           68.0                      9.0   \n",
       "4769                           18.0                     11.0   \n",
       "371                             NaN                      6.0   \n",
       "7391                            NaN                      9.0   \n",
       "1947                            NaN                     16.0   \n",
       "1667                           22.0                      5.0   \n",
       "6229                            NaN                      8.0   \n",
       "2745                            NaN                      7.0   \n",
       "5314                           62.0                     29.0   \n",
       "9984                           66.0                      6.0   \n",
       "1486                            NaN                      9.0   \n",
       "2683                            NaN                      7.0   \n",
       "9501                           68.0                     10.0   \n",
       "161                             NaN                     19.0   \n",
       "3323                           61.0                      7.0   \n",
       "1185                            NaN                     13.0   \n",
       "7815                           25.0                      9.0   \n",
       "9942                            NaN                     14.0   \n",
       "3826                            NaN                      3.0   \n",
       "9780                            NaN                      6.0   \n",
       "7266                            NaN                     14.0   \n",
       "9480                            NaN                     15.0   \n",
       "5925                           58.0                      8.0   \n",
       "9153                           15.0                     13.0   \n",
       "10290                           NaN                      NaN   \n",
       "3117                           67.0                     11.0   \n",
       "1842                            NaN                      8.0   \n",
       "5870                           45.0                     21.0   \n",
       "5104                            NaN                      5.0   \n",
       "2324                            NaN                     16.0   \n",
       "4632                           25.0                      5.0   \n",
       "7947                            9.0                     11.0   \n",
       "1649                           19.0                      9.0   \n",
       "1552                           11.0                     11.0   \n",
       "8751                           30.0                     18.0   \n",
       "3315                            NaN                     11.0   \n",
       "1504                            NaN                     15.0   \n",
       "6196                            NaN                      5.0   \n",
       "1148                           65.0                     15.0   \n",
       "2149                           32.0                      8.0   \n",
       "3040                            NaN                      9.0   \n",
       "5238                            NaN                     23.0   \n",
       "5267                           14.0                      8.0   \n",
       "\n",
       "       Number of Credit Problems  Current Credit Balance  Maximum Open Credit  \\\n",
       "2974                         0.0                298851.0             371690.0   \n",
       "94                           0.0                 80750.0             102520.0   \n",
       "4687                         0.0                331151.0             647702.0   \n",
       "6578                         1.0                455069.0            1114036.0   \n",
       "282                          0.0                 41420.0             128238.0   \n",
       "8222                         0.0                610242.0            1275406.0   \n",
       "4943                         0.0                335065.0             526438.0   \n",
       "7114                         3.0                145958.0             384098.0   \n",
       "4769                         1.0                193762.0             377080.0   \n",
       "371                          0.0                153444.0             205392.0   \n",
       "7391                         0.0                 94259.0             198088.0   \n",
       "1947                         0.0                115843.0             817850.0   \n",
       "1667                         0.0                 22952.0             136994.0   \n",
       "6229                         0.0                 41933.0             622380.0   \n",
       "2745                         0.0                 35150.0             151888.0   \n",
       "5314                         0.0                567454.0            1246762.0   \n",
       "9984                         0.0                 10013.0             141416.0   \n",
       "1486                         0.0                187055.0             273790.0   \n",
       "2683                         1.0                 22971.0             165176.0   \n",
       "9501                         1.0                111378.0             497904.0   \n",
       "161                          0.0                211489.0            1475166.0   \n",
       "3323                         0.0                102695.0             273372.0   \n",
       "1185                         0.0                106096.0             617298.0   \n",
       "7815                         0.0                267938.0             643676.0   \n",
       "9942                         0.0                303848.0             580558.0   \n",
       "3826                         0.0                 75430.0             102520.0   \n",
       "9780                         0.0                 68039.0             101134.0   \n",
       "7266                         0.0                204497.0             420574.0   \n",
       "9480                         0.0                364021.0             670142.0   \n",
       "5925                         0.0                408671.0             553454.0   \n",
       "9153                         1.0                153881.0             267938.0   \n",
       "10290                        NaN                     NaN                  NaN   \n",
       "3117                         0.0                346351.0             547844.0   \n",
       "1842                         0.0                416024.0             700172.0   \n",
       "5870                         1.0                237633.0             611468.0   \n",
       "5104                         0.0                 43263.0             113850.0   \n",
       "2324                         0.0                883918.0            1596716.0   \n",
       "4632                         0.0                220001.0             602206.0   \n",
       "7947                         1.0                192052.0             599390.0   \n",
       "1649                         0.0                 94563.0             233464.0   \n",
       "1552                         0.0                445854.0            1870484.0   \n",
       "8751                         0.0                484823.0             901098.0   \n",
       "3315                         2.0                 39463.0             315040.0   \n",
       "1504                         0.0                461548.0             777920.0   \n",
       "6196                         0.0                116527.0             340714.0   \n",
       "1148                         0.0                166934.0             565180.0   \n",
       "2149                         0.0                  9538.0              37576.0   \n",
       "3040                         0.0                 55499.0             246224.0   \n",
       "5238                         0.0                847495.0            1823998.0   \n",
       "5267                         0.0                 69502.0             313126.0   \n",
       "\n",
       "       Bankruptcies  Tax Liens  \n",
       "2974            0.0        0.0  \n",
       "94              0.0        0.0  \n",
       "4687            0.0        0.0  \n",
       "6578            1.0        0.0  \n",
       "282             0.0        0.0  \n",
       "8222            0.0        0.0  \n",
       "4943            0.0        0.0  \n",
       "7114            2.0        1.0  \n",
       "4769            1.0        0.0  \n",
       "371             0.0        0.0  \n",
       "7391            0.0        0.0  \n",
       "1947            0.0        0.0  \n",
       "1667            0.0        0.0  \n",
       "6229            0.0        0.0  \n",
       "2745            0.0        0.0  \n",
       "5314            0.0        0.0  \n",
       "9984            0.0        0.0  \n",
       "1486            0.0        0.0  \n",
       "2683            1.0        0.0  \n",
       "9501            1.0        0.0  \n",
       "161             0.0        0.0  \n",
       "3323            0.0        0.0  \n",
       "1185            0.0        0.0  \n",
       "7815            0.0        0.0  \n",
       "9942            0.0        0.0  \n",
       "3826            0.0        0.0  \n",
       "9780            0.0        0.0  \n",
       "7266            0.0        0.0  \n",
       "9480            0.0        0.0  \n",
       "5925            0.0        0.0  \n",
       "9153            1.0        0.0  \n",
       "10290           NaN        NaN  \n",
       "3117            0.0        0.0  \n",
       "1842            0.0        0.0  \n",
       "5870            0.0        1.0  \n",
       "5104            0.0        0.0  \n",
       "2324            0.0        0.0  \n",
       "4632            0.0        0.0  \n",
       "7947            0.0        0.0  \n",
       "1649            0.0        0.0  \n",
       "1552            0.0        0.0  \n",
       "8751            0.0        0.0  \n",
       "3315            0.0        0.0  \n",
       "1504            0.0        0.0  \n",
       "6196            0.0        0.0  \n",
       "1148            0.0        0.0  \n",
       "2149            0.0        0.0  \n",
       "3040            0.0        0.0  \n",
       "5238            0.0        0.0  \n",
       "5267            0.0        0.0  "
      ]
     },
     "execution_count": 4,
     "metadata": {},
     "output_type": "execute_result"
    }
   ],
   "source": [
    "df2"
   ]
  },
  {
   "cell_type": "code",
   "execution_count": 7,
   "metadata": {},
   "outputs": [],
   "source": [
    "# Categorical data\n",
    "# 1. Check the missing data\n",
    "# 2. Check the percentage of missing data\n",
    "# 3. Calcualte the Frequency Table\n",
    "\n",
    "\n",
    "# Method 1\n",
    "# df['Term'].value_counts(dropna=False) # Frequency Table \n",
    "\n",
    "\n",
    "# Method 2\n",
    "#  df['Term'].isna().sum() # Missing values\n",
    "# len(df) # Total number of columns\n",
    "# df['Term'].value_counts()\n",
    "\n",
    "# Method 3\n",
    "#  (df['Term'].isna().sum() / len(df) )*100 # Missing values\n",
    "# df['Term'].value_counts()"
   ]
  },
  {
   "cell_type": "code",
   "execution_count": 11,
   "metadata": {},
   "outputs": [
    {
     "data": {
      "text/plain": [
       "3.4096397179561477"
      ]
     },
     "execution_count": 11,
     "metadata": {},
     "output_type": "execute_result"
    }
   ],
   "source": [
    "(df['Term'].isna().sum() / len(df) )*100"
   ]
  },
  {
   "cell_type": "code",
   "execution_count": 5,
   "metadata": {},
   "outputs": [
    {
     "data": {
      "text/plain": [
       "353"
      ]
     },
     "execution_count": 5,
     "metadata": {},
     "output_type": "execute_result"
    }
   ],
   "source": [
    "df['Term'].isna().sum()"
   ]
  },
  {
   "cell_type": "code",
   "execution_count": 6,
   "metadata": {},
   "outputs": [
    {
     "data": {
      "text/plain": [
       "10353"
      ]
     },
     "execution_count": 6,
     "metadata": {},
     "output_type": "execute_result"
    }
   ],
   "source": [
    "len(df)"
   ]
  },
  {
   "cell_type": "code",
   "execution_count": 8,
   "metadata": {},
   "outputs": [
    {
     "data": {
      "text/plain": [
       "Short Term    7295\n",
       "Long Term     2705\n",
       "Name: Term, dtype: int64"
      ]
     },
     "execution_count": 8,
     "metadata": {},
     "output_type": "execute_result"
    }
   ],
   "source": [
    "df['Term'].value_counts()"
   ]
  },
  {
   "cell_type": "code",
   "execution_count": 9,
   "metadata": {},
   "outputs": [
    {
     "data": {
      "text/plain": [
       "Short Term    7295\n",
       "Long Term     2705\n",
       "NaN            353\n",
       "Name: Term, dtype: int64"
      ]
     },
     "execution_count": 9,
     "metadata": {},
     "output_type": "execute_result"
    }
   ],
   "source": [
    "df['Term'].value_counts(dropna=False)"
   ]
  },
  {
   "cell_type": "code",
   "execution_count": null,
   "metadata": {},
   "outputs": [],
   "source": [
    "df['Term'].value_counts()"
   ]
  },
  {
   "cell_type": "code",
   "execution_count": null,
   "metadata": {},
   "outputs": [],
   "source": []
  },
  {
   "cell_type": "code",
   "execution_count": null,
   "metadata": {},
   "outputs": [],
   "source": [
    "# Continuous data\n",
    "\n",
    "# 1. Missing values\n",
    "# 2. Percentage of missing values\n",
    "# 3. Boxplot (Five Number Summary)\n",
    "# 4. Outlier (Outlying values)\n",
    "# 5. How to fill the missing values?"
   ]
  },
  {
   "cell_type": "code",
   "execution_count": 23,
   "metadata": {},
   "outputs": [
    {
     "data": {
      "text/plain": [
       "353"
      ]
     },
     "execution_count": 23,
     "metadata": {},
     "output_type": "execute_result"
    }
   ],
   "source": [
    "df['Current Loan Amount'].isna().sum()"
   ]
  },
  {
   "cell_type": "code",
   "execution_count": 24,
   "metadata": {},
   "outputs": [
    {
     "data": {
      "text/plain": [
       "3.4096397179561477"
      ]
     },
     "execution_count": 24,
     "metadata": {},
     "output_type": "execute_result"
    }
   ],
   "source": [
    "100* (df['Current Loan Amount'].isna().sum() / len(df))"
   ]
  },
  {
   "cell_type": "code",
   "execution_count": 26,
   "metadata": {},
   "outputs": [
    {
     "data": {
      "text/plain": [
       "<matplotlib.axes._subplots.AxesSubplot at 0x20351987588>"
      ]
     },
     "execution_count": 26,
     "metadata": {},
     "output_type": "execute_result"
    },
    {
     "data": {
      "image/png": "[encoded data removed]",
      "text/plain": [
       "<Figure size 432x288 with 1 Axes>"
      ]
     },
     "metadata": {
      "needs_background": "light"
     },
     "output_type": "display_data"
    }
   ],
   "source": [
    "df['Current Loan Amount'].plot(kind='box')"
   ]
  },
  {
   "cell_type": "code",
   "execution_count": 59,
   "metadata": {},
   "outputs": [
    {
     "data": {
      "text/plain": [
       "(19470.0, array([178948. , 309276. , 515707.5]), 99999999.0)"
      ]
     },
     "execution_count": 59,
     "metadata": {},
     "output_type": "execute_result"
    }
   ],
   "source": [
    "# calculate a 5-number summary\n",
    "# 1. Minimum\n",
    "# 2. Lower Quartile (25th Quartile)\n",
    "# 3. Median (50th Quartile)\n",
    "# 4. Upper Quartile (75th Quartile)\n",
    "# 5. Maximum\n",
    "\n",
    "# calculate min/max\n",
    "data_min = df['Current Loan Amount'].min()\n",
    "data_max = df['Current Loan Amount'].max()\n",
    "# calculate quartiles\n",
    "quartiles = np.percentile(df['Current Loan Amount'].dropna(), [25, 50, 75])\n",
    "data_min, quartiles, data_max"
   ]
  },
  {
   "cell_type": "code",
   "execution_count": 32,
   "metadata": {},
   "outputs": [
    {
     "data": {
      "text/plain": [
       "array([178948. , 309276. , 515707.5])"
      ]
     },
     "execution_count": 32,
     "metadata": {},
     "output_type": "execute_result"
    }
   ],
   "source": [
    "quartiles"
   ]
  },
  {
   "cell_type": "code",
   "execution_count": 66,
   "metadata": {},
   "outputs": [],
   "source": [
    "selector = df['Current Loan Amount'] < 99999999.0\n",
    "currrentLoanAmt = df['Current Loan Amount'].loc[selector]"
   ]
  },
  {
   "cell_type": "code",
   "execution_count": 67,
   "metadata": {},
   "outputs": [
    {
     "data": {
      "text/plain": [
       "pandas.core.series.Series"
      ]
     },
     "execution_count": 67,
     "metadata": {},
     "output_type": "execute_result"
    }
   ],
   "source": [
    "type(currrentLoanAmt)"
   ]
  },
  {
   "cell_type": "code",
   "execution_count": 73,
   "metadata": {},
   "outputs": [
    {
     "data": {
      "text/plain": [
       "<matplotlib.axes._subplots.AxesSubplot at 0x20351b1c470>"
      ]
     },
     "execution_count": 73,
     "metadata": {},
     "output_type": "execute_result"
    },
    {
     "data": {
      "image/png": "[encoded data removed]",
      "text/plain": [
       "<Figure size 432x288 with 1 Axes>"
      ]
     },
     "metadata": {
      "needs_background": "light"
     },
     "output_type": "display_data"
    }
   ],
   "source": [
    "currrentLoanAmt.plot(kind='box')"
   ]
  },
  {
   "cell_type": "code",
   "execution_count": 70,
   "metadata": {},
   "outputs": [
    {
     "data": {
      "text/plain": [
       "1486"
      ]
     },
     "execution_count": 70,
     "metadata": {},
     "output_type": "execute_result"
    }
   ],
   "source": [
    "len(selector) - sum(selector) # Data owner / Database admin / Senior Analyst / Senior Data Scientist"
   ]
  },
  {
   "cell_type": "code",
   "execution_count": 64,
   "metadata": {},
   "outputs": [
    {
     "data": {
      "text/plain": [
       "0       611314.0\n",
       "1       266662.0\n",
       "2       153494.0\n",
       "3       176242.0\n",
       "4       321992.0\n",
       "          ...   \n",
       "9993    220858.0\n",
       "9994    442596.0\n",
       "9995    157806.0\n",
       "9996    132550.0\n",
       "9997    223212.0\n",
       "Name: Current Loan Amount, Length: 8867, dtype: float64"
      ]
     },
     "execution_count": 64,
     "metadata": {},
     "output_type": "execute_result"
    }
   ],
   "source": [
    "df['Current Loan Amount'].loc[df['Current Loan Amount'] < 99999999.0]"
   ]
  },
  {
   "cell_type": "code",
   "execution_count": 71,
   "metadata": {},
   "outputs": [
    {
     "data": {
      "text/plain": [
       "11603801.2123"
      ]
     },
     "execution_count": 71,
     "metadata": {},
     "output_type": "execute_result"
    }
   ],
   "source": [
    "np.mean(df['Current Loan Amount'])"
   ]
  },
  {
   "cell_type": "code",
   "execution_count": 74,
   "metadata": {},
   "outputs": [
    {
     "data": {
      "text/plain": [
       "308786.8789895117"
      ]
     },
     "execution_count": 74,
     "metadata": {},
     "output_type": "execute_result"
    }
   ],
   "source": [
    "np.mean(currrentLoanAmt)"
   ]
  },
  {
   "cell_type": "code",
   "execution_count": 79,
   "metadata": {},
   "outputs": [],
   "source": [
    "# THis is called mean shift after the removal of the outliers."
   ]
  },
  {
   "cell_type": "code",
   "execution_count": 76,
   "metadata": {},
   "outputs": [
    {
     "data": {
      "text/plain": [
       "309276.0"
      ]
     },
     "execution_count": 76,
     "metadata": {},
     "output_type": "execute_result"
    }
   ],
   "source": [
    "np.median(df['Current Loan Amount'].dropna())"
   ]
  },
  {
   "cell_type": "code",
   "execution_count": 77,
   "metadata": {},
   "outputs": [
    {
     "data": {
      "text/plain": [
       "265958.0"
      ]
     },
     "execution_count": 77,
     "metadata": {},
     "output_type": "execute_result"
    }
   ],
   "source": [
    "np.median(currrentLoanAmt)"
   ]
  },
  {
   "cell_type": "code",
   "execution_count": 78,
   "metadata": {},
   "outputs": [],
   "source": [
    "# The mean is more prone to change with the presence of outlier values in the data.\n",
    "# Mean is outlier sensitive measure.\n",
    "# Median is more stable parameter or measure."
   ]
  },
  {
   "cell_type": "code",
   "execution_count": null,
   "metadata": {},
   "outputs": [],
   "source": []
  },
  {
   "cell_type": "code",
   "execution_count": null,
   "metadata": {},
   "outputs": [],
   "source": []
  },
  {
   "cell_type": "code",
   "execution_count": 46,
   "metadata": {},
   "outputs": [
    {
     "data": {
      "text/plain": [
       "1"
      ]
     },
     "execution_count": 46,
     "metadata": {},
     "output_type": "execute_result"
    }
   ],
   "source": [
    "df2['Current Loan Amount'].isna().sum()"
   ]
  },
  {
   "cell_type": "code",
   "execution_count": 54,
   "metadata": {},
   "outputs": [
    {
     "data": {
      "text/plain": [
       "nan"
      ]
     },
     "execution_count": 54,
     "metadata": {},
     "output_type": "execute_result"
    }
   ],
   "source": [
    "np.median(df2['Current Loan Amount']) # It can't assume nan value as 0"
   ]
  },
  {
   "cell_type": "code",
   "execution_count": 53,
   "metadata": {},
   "outputs": [
    {
     "data": {
      "text/plain": [
       "14528090.836734693"
      ]
     },
     "execution_count": 53,
     "metadata": {},
     "output_type": "execute_result"
    }
   ],
   "source": [
    "np.mean(df2['Current Loan Amount']) # Replace nan value with 0 temporarily"
   ]
  },
  {
   "cell_type": "code",
   "execution_count": 51,
   "metadata": {},
   "outputs": [
    {
     "data": {
      "text/plain": [
       "nan"
      ]
     },
     "execution_count": 51,
     "metadata": {},
     "output_type": "execute_result"
    }
   ],
   "source": [
    "sum(df2['Current Loan Amount'])"
   ]
  },
  {
   "cell_type": "code",
   "execution_count": null,
   "metadata": {},
   "outputs": [],
   "source": [
    "# Why numpy can assume nan as zero for mean, and not for median?"
   ]
  },
  {
   "cell_type": "code",
   "execution_count": null,
   "metadata": {},
   "outputs": [],
   "source": [
    "# 1, 2, 3, 4, 5, 6, 7, 8, nan\n",
    "\n",
    "# While computing mean\n",
    "# 1, 2, 3, 4, 5, 6, 7, 8, 0 = add these all together & divide them by number of values\n",
    "# This is because normally we have very large datasets, and few missing value don't add much differnece in mean.\n",
    "\n",
    "# In the median, you need to sort your values before finding the median.\n",
    "# 1, 2, 3, 4, 5, 6, 7, 8, nan # because nan is basically an unexpected value\n",
    "# In the median, you remove nan from our data, and then compute median.\n",
    "# 1, 2, 3, 4, 5, 6, 7, 8 = 4 + 5 /2 = 4.5"
   ]
  },
  {
   "cell_type": "code",
   "execution_count": 56,
   "metadata": {},
   "outputs": [
    {
     "data": {
      "text/plain": [
       "2974      435204.0\n",
       "94        141724.0\n",
       "4687      443564.0\n",
       "6578      659648.0\n",
       "282       221144.0\n",
       "8222    99999999.0\n",
       "4943      355124.0\n",
       "7114    99999999.0\n",
       "4769      261492.0\n",
       "371       317966.0\n",
       "7391       67496.0\n",
       "1947      391160.0\n",
       "1667       92796.0\n",
       "6229      263714.0\n",
       "2745      133672.0\n",
       "5314      346610.0\n",
       "9984      111716.0\n",
       "1486       86614.0\n",
       "2683       27720.0\n",
       "9501      332090.0\n",
       "161     99999999.0\n",
       "3323      388058.0\n",
       "1185      166166.0\n",
       "7815      260964.0\n",
       "9942      414546.0\n",
       "3826      115544.0\n",
       "9780      203324.0\n",
       "7266      267146.0\n",
       "9480       33198.0\n",
       "5925      549230.0\n",
       "9153      263560.0\n",
       "3117    99999999.0\n",
       "1842      430672.0\n",
       "5870      591888.0\n",
       "5104      134288.0\n",
       "2324    99999999.0\n",
       "4632      128920.0\n",
       "7947      349844.0\n",
       "1649      151206.0\n",
       "1552    99999999.0\n",
       "8751      495770.0\n",
       "3315      704902.0\n",
       "1504      188936.0\n",
       "6196      433840.0\n",
       "1148      435820.0\n",
       "2149      261778.0\n",
       "3040      117590.0\n",
       "5238    99999999.0\n",
       "5267       99814.0\n",
       "Name: Current Loan Amount, dtype: float64"
      ]
     },
     "execution_count": 56,
     "metadata": {},
     "output_type": "execute_result"
    }
   ],
   "source": [
    "df2['Current Loan Amount'].dropna()"
   ]
  },
  {
   "cell_type": "code",
   "execution_count": 61,
   "metadata": {},
   "outputs": [
    {
     "data": {
      "text/plain": [
       "2974      True\n",
       "94        True\n",
       "4687      True\n",
       "6578      True\n",
       "282       True\n",
       "8222     False\n",
       "4943      True\n",
       "7114     False\n",
       "4769      True\n",
       "371       True\n",
       "7391      True\n",
       "1947      True\n",
       "1667      True\n",
       "6229      True\n",
       "2745      True\n",
       "5314      True\n",
       "9984      True\n",
       "1486      True\n",
       "2683      True\n",
       "9501      True\n",
       "161      False\n",
       "3323      True\n",
       "1185      True\n",
       "7815      True\n",
       "9942      True\n",
       "3826      True\n",
       "9780      True\n",
       "7266      True\n",
       "9480      True\n",
       "5925      True\n",
       "9153      True\n",
       "10290    False\n",
       "3117     False\n",
       "1842      True\n",
       "5870      True\n",
       "5104      True\n",
       "2324     False\n",
       "4632      True\n",
       "7947      True\n",
       "1649      True\n",
       "1552     False\n",
       "8751      True\n",
       "3315      True\n",
       "1504      True\n",
       "6196      True\n",
       "1148      True\n",
       "2149      True\n",
       "3040      True\n",
       "5238     False\n",
       "5267      True\n",
       "Name: Current Loan Amount, dtype: bool"
      ]
     },
     "execution_count": 61,
     "metadata": {},
     "output_type": "execute_result"
    }
   ],
   "source": [
    "df2['Current Loan Amount'] < 99999999.0"
   ]
  },
  {
   "cell_type": "code",
   "execution_count": 63,
   "metadata": {},
   "outputs": [
    {
     "data": {
      "text/plain": [
       "2974    435204.0\n",
       "94      141724.0\n",
       "4687    443564.0\n",
       "6578    659648.0\n",
       "282     221144.0\n",
       "4943    355124.0\n",
       "4769    261492.0\n",
       "371     317966.0\n",
       "7391     67496.0\n",
       "1947    391160.0\n",
       "1667     92796.0\n",
       "6229    263714.0\n",
       "2745    133672.0\n",
       "5314    346610.0\n",
       "9984    111716.0\n",
       "1486     86614.0\n",
       "2683     27720.0\n",
       "9501    332090.0\n",
       "3323    388058.0\n",
       "1185    166166.0\n",
       "7815    260964.0\n",
       "9942    414546.0\n",
       "3826    115544.0\n",
       "9780    203324.0\n",
       "7266    267146.0\n",
       "9480     33198.0\n",
       "5925    549230.0\n",
       "9153    263560.0\n",
       "1842    430672.0\n",
       "5870    591888.0\n",
       "5104    134288.0\n",
       "4632    128920.0\n",
       "7947    349844.0\n",
       "1649    151206.0\n",
       "8751    495770.0\n",
       "3315    704902.0\n",
       "1504    188936.0\n",
       "6196    433840.0\n",
       "1148    435820.0\n",
       "2149    261778.0\n",
       "3040    117590.0\n",
       "5267     99814.0\n",
       "Name: Current Loan Amount, dtype: float64"
      ]
     },
     "execution_count": 63,
     "metadata": {},
     "output_type": "execute_result"
    }
   ],
   "source": [
    "selector = df2['Current Loan Amount'] < 99999999.0\n",
    "df2['Current Loan Amount'].loc[selector]"
   ]
  },
  {
   "cell_type": "code",
   "execution_count": null,
   "metadata": {},
   "outputs": [],
   "source": []
  }
 ],
 "metadata": {
  "kernelspec": {
   "display_name": "Python 3",
   "language": "python",
   "name": "python3"
  },
  "language_info": {
   "codemirror_mode": {
    "name": "ipython",
    "version": 3
   },
   "file_extension": ".py",
   "mimetype": "text/x-python",
   "name": "python",
   "nbconvert_exporter": "python",
   "pygments_lexer": "ipython3",
   "version": "3.7.3"
  }
 },
 "nbformat": 4,
 "nbformat_minor": 2
}
