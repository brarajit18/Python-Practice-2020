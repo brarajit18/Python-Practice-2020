{
 "cells": [
  {
   "cell_type": "code",
   "execution_count": 1,
   "metadata": {},
   "outputs": [],
   "source": [
    "aList = [1,2,3,4,5,6]"
   ]
  },
  {
   "cell_type": "code",
   "execution_count": 2,
   "metadata": {},
   "outputs": [],
   "source": [
    "bList = [10,20,30,40,50,60]"
   ]
  },
  {
   "cell_type": "code",
   "execution_count": 3,
   "metadata": {},
   "outputs": [],
   "source": [
    "cList = ['a','b','c','d','e','f']"
   ]
  },
  {
   "cell_type": "code",
   "execution_count": 4,
   "metadata": {},
   "outputs": [
    {
     "name": "stdout",
     "output_type": "stream",
     "text": [
      "1\n",
      "2\n",
      "3\n",
      "4\n",
      "5\n",
      "6\n"
     ]
    }
   ],
   "source": [
    "for a in aList:\n",
    "    print (a)"
   ]
  },
  {
   "cell_type": "code",
   "execution_count": 5,
   "metadata": {},
   "outputs": [
    {
     "name": "stdout",
     "output_type": "stream",
     "text": [
      "10\n",
      "20\n",
      "30\n",
      "40\n",
      "50\n",
      "60\n"
     ]
    }
   ],
   "source": [
    "for b in bList:\n",
    "    print (b)"
   ]
  },
  {
   "cell_type": "code",
   "execution_count": 6,
   "metadata": {},
   "outputs": [
    {
     "name": "stdout",
     "output_type": "stream",
     "text": [
      "a\n",
      "b\n",
      "c\n",
      "d\n",
      "e\n",
      "f\n"
     ]
    }
   ],
   "source": [
    "for c in cList:\n",
    "    print (c)"
   ]
  },
  {
   "cell_type": "code",
   "execution_count": 8,
   "metadata": {},
   "outputs": [
    {
     "name": "stdout",
     "output_type": "stream",
     "text": [
      "1 a\n",
      "2 b\n",
      "3 c\n",
      "4 d\n",
      "5 e\n",
      "6 f\n"
     ]
    }
   ],
   "source": [
    "for a, c in zip(aList, cList):\n",
    "    print (a, c)"
   ]
  },
  {
   "cell_type": "code",
   "execution_count": 9,
   "metadata": {},
   "outputs": [
    {
     "name": "stdout",
     "output_type": "stream",
     "text": [
      "(1, 'a')\n",
      "(2, 'b')\n",
      "(3, 'c')\n",
      "(4, 'd')\n",
      "(5, 'e')\n",
      "(6, 'f')\n"
     ]
    }
   ],
   "source": [
    "for t in zip(aList, cList):\n",
    "    print (t)"
   ]
  },
  {
   "cell_type": "code",
   "execution_count": 10,
   "metadata": {},
   "outputs": [
    {
     "name": "stdout",
     "output_type": "stream",
     "text": [
      "1 a\n",
      "2 b\n",
      "3 c\n",
      "4 d\n",
      "5 e\n",
      "6 f\n"
     ]
    }
   ],
   "source": [
    "for t in zip(aList, cList):\n",
    "    print (t[0], t[1])"
   ]
  },
  {
   "cell_type": "code",
   "execution_count": null,
   "metadata": {},
   "outputs": [],
   "source": [
    "# Use case\n",
    "# Scenario 1, you need to print X rows between Y and Z.\n",
    "# Scenario 2, you need to print the Row Numbers too."
   ]
  },
  {
   "cell_type": "code",
   "execution_count": 12,
   "metadata": {},
   "outputs": [
    {
     "name": "stdout",
     "output_type": "stream",
     "text": [
      "1 10\n",
      "2 20\n",
      "3 30\n",
      "4 40\n",
      "5 50\n",
      "6 60\n"
     ]
    }
   ],
   "source": [
    "for a,b in zip(aList,bList):\n",
    "    print (a,b)"
   ]
  },
  {
   "cell_type": "code",
   "execution_count": null,
   "metadata": {},
   "outputs": [],
   "source": [
    "# you only need to print row 1, 2, 3."
   ]
  },
  {
   "cell_type": "code",
   "execution_count": 30,
   "metadata": {},
   "outputs": [
    {
     "name": "stdout",
     "output_type": "stream",
     "text": [
      "Row No. 1 | Values:  2 20\n",
      "Row No. 2 | Values:  3 30\n",
      "Row No. 3 | Values:  4 40\n"
     ]
    }
   ],
   "source": [
    "# External variable, helper variable\n",
    "row_number = 0 #sequence\n",
    "#print (\"    \",\"Row Count\", \"   \", \"Values\")\n",
    "for a,b in zip(aList,bList):\n",
    "    if row_number >= 1 and row_number <= 3:\n",
    "        print (\"Row No.\", row_number,\"| Values: \", a,b)\n",
    "    row_number += 1 # increment\n",
    "\n",
    "# Modeling\n",
    "# row_number = 0\n",
    "# Enter the for loop with value 0\n",
    "# if row_number is greater than or equal to 1 and row_number is lesser than or equal to 3 - No, Don't Print anything\n",
    "# Increment the value of row_number by 1, and this will become 1\n",
    "# Enter the loop again with value 1\n",
    "# if row_number is greater than or equal to 1 and row_number is lesser than or equal to 3 - Yes, Print Something\n",
    "# Increment the value of row_number by 1, and this will become 2\n",
    "# Enter the loop again with value 2\n",
    "# if row_number is greater than or equal to 1 and row_number is lesser than or equal to 3 - Yes, Print Something\n",
    "# Increment the value of row_number by 1, and this will become 3\n",
    "# Enter the loop again with value 3\n",
    "# if row_number is greater than or equal to 1 and row_number is lesser than or equal to 3 - Yes, Print Something\n",
    "# Increment the value of row_number by 1, and this will become 4\n",
    "# Enter the loop again with value 4\n",
    "# if row_number is greater than or equal to 1 and row_number is lesser than or equal to 3 - No, Dont' Print anything\n",
    "# Increment the value of row_number by 1, and this will become 5\n",
    "# Enter the loop again with value 5\n",
    "# if row_number is greater than or equal to 1 and row_number is lesser than or equal to 3 - No, Dont' Print anything\n",
    "# Increment the value of row_number by 1, and this will become 6\n",
    "# Loop ended"
   ]
  },
  {
   "cell_type": "code",
   "execution_count": 18,
   "metadata": {},
   "outputs": [
    {
     "name": "stdout",
     "output_type": "stream",
     "text": [
      "3 30\n",
      "4 40\n",
      "5 50\n"
     ]
    }
   ],
   "source": [
    "# External variable, helper variable\n",
    "row_number = -1 #sequence\n",
    "for a,b in zip(aList,bList):\n",
    "    if row_number >= 1 and row_number <= 3:\n",
    "        print (a,b)\n",
    "    row_number += 1 # increment\n",
    "    \n",
    "# Modeling\n",
    "# row_number = -1\n",
    "# Enter the for loop with value -1\n",
    "# if row_number is greater than or equal to 1 and row_number is lesser than or equal to 3 - No, Don't Print anything - (1, 10)\n",
    "# Increment the value of row_number by 1, and this will become 0\n",
    "# Enter the loop again with value 0\n",
    "# if row_number is greater than or equal to 1 and row_number is lesser than or equal to 3 - No, Don't print anything - (2, 20)\n",
    "# Increment the value of row_number by 1, and this will become 1\n",
    "# Enter the loop again with value 1\n",
    "# if row_number is greater than or equal to 1 and row_number is lesser than or equal to 3 - Yes, Print SOmething - (3, 30)\n",
    "# Increment the value of row_number by 1, and this will become 2\n",
    "# Enter the loop again with value 2\n",
    "# if row_number is greater than or equal to 1 and row_number is lesser than or equal to 3 - Yes, Print Something  - (4, 40)\n",
    "# Increment the value of row_number by 1, and this will become 3\n",
    "# Enter the loop again with value 3\n",
    "# if row_number is greater than or equal to 1 and row_number is lesser than or equal to 3 - Yes, Print Something - (5,50)\n",
    "# Increment the value of row_number by 1, and this will become 4\n",
    "# Enter the loop again with value 4\n",
    "# if row_number is greater than or equal to 1 and row_number is lesser than or equal to 3 - No, Dont' Print anything\n",
    "# Increment the value of row_number by 1, and this will become 5\n",
    "# Loop ended"
   ]
  },
  {
   "cell_type": "code",
   "execution_count": 21,
   "metadata": {},
   "outputs": [
    {
     "name": "stdout",
     "output_type": "stream",
     "text": [
      "2 20\n",
      "3 30\n",
      "4 40\n"
     ]
    }
   ],
   "source": [
    "# Use range function to control the execution of this loop\n",
    "for row_number in range(len(aList)):\n",
    "    if row_number >= 1 and row_number <= 3:\n",
    "        print (aList[row_number],bList[row_number])\n",
    "\n",
    "# Modeling\n",
    "# Enter the for loop with value 0\n",
    "# if row_number is greater than or equal to 1 and row_number is lesser than or equal to 3 - No, Don't Print anything - (1, 10)\n",
    "\n",
    "# Enter the loop again with value 1\n",
    "# if row_number is greater than or equal to 1 and row_number is lesser than or equal to 3 - Yes, Print Something - (2, 20)\n",
    "\n",
    "# Enter the loop again with value 2\n",
    "# if row_number is greater than or equal to 1 and row_number is lesser than or equal to 3 - Yes, Print SOmething - (3, 30)\n",
    "\n",
    "# Enter the loop again with value 3\n",
    "# if row_number is greater than or equal to 1 and row_number is lesser than or equal to 3 - Yes, Print Something  - (4, 40)\n",
    "\n",
    "# Enter the loop again with value 4\n",
    "# if row_number is greater than or equal to 1 and row_number is lesser than or equal to 3 - No, Don't PRint anything - (5,50)\n",
    "\n",
    "# Enter the loop again with value 5\n",
    "# if row_number is greater than or equal to 1 and row_number is lesser than or equal to 3 - No, Dont' Print anything - (6, 60)\n",
    "\n",
    "# Loop ended"
   ]
  },
  {
   "cell_type": "code",
   "execution_count": null,
   "metadata": {},
   "outputs": [],
   "source": [
    "# Particularly, when you filter the output, then its recommended to use range() function in the for loop\n",
    "\n",
    "# From filter, I mean when you would be using conditional statements\n",
    "\n",
    "# Eg, conditional statement\n",
    "# If i < 10\n",
    "# IF i > 5"
   ]
  },
  {
   "cell_type": "code",
   "execution_count": null,
   "metadata": {},
   "outputs": [],
   "source": []
  },
  {
   "cell_type": "code",
   "execution_count": null,
   "metadata": {},
   "outputs": [],
   "source": []
  },
  {
   "cell_type": "code",
   "execution_count": null,
   "metadata": {},
   "outputs": [],
   "source": []
  },
  {
   "cell_type": "code",
   "execution_count": null,
   "metadata": {},
   "outputs": [],
   "source": []
  }
 ],
 "metadata": {
  "kernelspec": {
   "display_name": "Python 3",
   "language": "python",
   "name": "python3"
  },
  "language_info": {
   "codemirror_mode": {
    "name": "ipython",
    "version": 3
   },
   "file_extension": ".py",
   "mimetype": "text/x-python",
   "name": "python",
   "nbconvert_exporter": "python",
   "pygments_lexer": "ipython3",
   "version": "3.7.3"
  }
 },
 "nbformat": 4,
 "nbformat_minor": 2
}
