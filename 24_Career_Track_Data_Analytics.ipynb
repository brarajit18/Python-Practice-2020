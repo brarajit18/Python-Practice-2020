{
 "cells": [
  {
   "cell_type": "code",
   "execution_count": null,
   "metadata": {},
   "outputs": [],
   "source": [
    "# Data Scientist / Machine Learning Engieer / AI Engineer / ML Infrastructure specalist / etc.\n",
    "\n",
    "# Machine learning\n",
    "# Mathematics (Linear Algebra and Calculus)\n",
    "# ML Packages (Tensorflow, PyTorch, Scikit)\n",
    "# Master Degree (>50-60% positions requires it)\n",
    "# Python, R, Object Oriented Programming, SQL, Tableau, Power BI etc."
   ]
  },
  {
   "cell_type": "code",
   "execution_count": null,
   "metadata": {},
   "outputs": [],
   "source": [
    "# Data Analyst / Data Specialist / Analytics Consultant / Business Intelligence Developer / Data Visualization Specailist / etc\n",
    "\n",
    "# Don't essentialy Master's (>80% position don't require masters)\n",
    "# Python scripting\n",
    "# Data Reporting\n",
    "# Data Visualization (Python Matplotlib, Seaborn) (Tableau, Power BI, Congos, etc)\n",
    "# Excel Intermediate\n",
    "# Good SQL\n",
    "# Tableau\n",
    "\n",
    "# Python with Pandas/Numpy, SQL, Tableau and Excel, Data Warehousing Concepts. Interview skills, and some project in your github, and your online profile."
   ]
  }
 ],
 "metadata": {
  "kernelspec": {
   "display_name": "Python 3",
   "language": "python",
   "name": "python3"
  },
  "language_info": {
   "codemirror_mode": {
    "name": "ipython",
    "version": 3
   },
   "file_extension": ".py",
   "mimetype": "text/x-python",
   "name": "python",
   "nbconvert_exporter": "python",
   "pygments_lexer": "ipython3",
   "version": "3.7.3"
  }
 },
 "nbformat": 4,
 "nbformat_minor": 2
}
