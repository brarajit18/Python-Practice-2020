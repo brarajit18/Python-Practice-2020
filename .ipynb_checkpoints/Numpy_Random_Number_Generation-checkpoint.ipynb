{
 "cells": [
  {
   "cell_type": "code",
   "execution_count": 1,
   "metadata": {},
   "outputs": [],
   "source": [
    "import numpy as np"
   ]
  },
  {
   "cell_type": "code",
   "execution_count": null,
   "metadata": {},
   "outputs": [],
   "source": [
    "# Mean\n",
    "# Median\n",
    "# Mode"
   ]
  },
  {
   "cell_type": "code",
   "execution_count": null,
   "metadata": {},
   "outputs": [],
   "source": [
    "# OOP/OOPS (Object Oriented Programming)"
   ]
  },
  {
   "cell_type": "code",
   "execution_count": null,
   "metadata": {},
   "outputs": [],
   "source": [
    "# Random numbers"
   ]
  },
  {
   "cell_type": "code",
   "execution_count": null,
   "metadata": {},
   "outputs": [],
   "source": [
    "np.random # its a build in sub-module of numpy"
   ]
  },
  {
   "cell_type": "code",
   "execution_count": null,
   "metadata": {},
   "outputs": [],
   "source": [
    "# Random number: Decimal (0 and 1)"
   ]
  },
  {
   "cell_type": "code",
   "execution_count": 2,
   "metadata": {},
   "outputs": [
    {
     "data": {
      "text/plain": [
       "0.8524893887130695"
      ]
     },
     "execution_count": 2,
     "metadata": {},
     "output_type": "execute_result"
    }
   ],
   "source": [
    "np.random.random() # Used to create decimal"
   ]
  },
  {
   "cell_type": "code",
   "execution_count": 3,
   "metadata": {},
   "outputs": [
    {
     "data": {
      "text/plain": [
       "array([0.7168001 , 0.27802128])"
      ]
     },
     "execution_count": 3,
     "metadata": {},
     "output_type": "execute_result"
    }
   ],
   "source": [
    "np.random.random(2)"
   ]
  },
  {
   "cell_type": "code",
   "execution_count": 4,
   "metadata": {},
   "outputs": [
    {
     "data": {
      "text/plain": [
       "array([0.85386679, 0.85060806, 0.81603926, 0.84648477, 0.12746468])"
      ]
     },
     "execution_count": 4,
     "metadata": {},
     "output_type": "execute_result"
    }
   ],
   "source": [
    "np.random.random(5)"
   ]
  },
  {
   "cell_type": "code",
   "execution_count": null,
   "metadata": {},
   "outputs": [],
   "source": [
    "# Random number: Integer (And X and  Y limit)"
   ]
  },
  {
   "cell_type": "code",
   "execution_count": 5,
   "metadata": {},
   "outputs": [
    {
     "ename": "TypeError",
     "evalue": "randint() takes at least 1 positional argument (0 given)",
     "output_type": "error",
     "traceback": [
      "\u001b[1;31m---------------------------------------------------------------------------\u001b[0m",
      "\u001b[1;31mTypeError\u001b[0m                                 Traceback (most recent call last)",
      "\u001b[1;32m<ipython-input-5-c77516ad7597>\u001b[0m in \u001b[0;36m<module>\u001b[1;34m\u001b[0m\n\u001b[1;32m----> 1\u001b[1;33m \u001b[0mnp\u001b[0m\u001b[1;33m.\u001b[0m\u001b[0mrandom\u001b[0m\u001b[1;33m.\u001b[0m\u001b[0mrandint\u001b[0m\u001b[1;33m(\u001b[0m\u001b[1;33m)\u001b[0m\u001b[1;33m\u001b[0m\u001b[1;33m\u001b[0m\u001b[0m\n\u001b[0m",
      "\u001b[1;32mmtrand.pyx\u001b[0m in \u001b[0;36mnumpy.random.mtrand.RandomState.randint\u001b[1;34m()\u001b[0m\n",
      "\u001b[1;31mTypeError\u001b[0m: randint() takes at least 1 positional argument (0 given)"
     ]
    }
   ],
   "source": [
    "np.random.randint() # This fucntion needs lower and upper limits to be given\n",
    "# Its lower limit is set to zero (Default)\n",
    "# It at least require you to enter upper limit"
   ]
  },
  {
   "cell_type": "code",
   "execution_count": 8,
   "metadata": {},
   "outputs": [
    {
     "data": {
      "text/plain": [
       "1"
      ]
     },
     "execution_count": 8,
     "metadata": {},
     "output_type": "execute_result"
    }
   ],
   "source": [
    "np.random.randint(10)"
   ]
  },
  {
   "cell_type": "code",
   "execution_count": 19,
   "metadata": {},
   "outputs": [
    {
     "data": {
      "text/plain": [
       "16"
      ]
     },
     "execution_count": 19,
     "metadata": {},
     "output_type": "execute_result"
    }
   ],
   "source": [
    "np.random.randint(10, 50)"
   ]
  },
  {
   "cell_type": "code",
   "execution_count": 27,
   "metadata": {},
   "outputs": [
    {
     "data": {
      "text/plain": [
       "array([29, 18, 20, 18, 26, 13, 43, 42, 40, 27])"
      ]
     },
     "execution_count": 27,
     "metadata": {},
     "output_type": "execute_result"
    }
   ],
   "source": [
    "np.random.randint(10, 50, 10)"
   ]
  },
  {
   "cell_type": "code",
   "execution_count": null,
   "metadata": {},
   "outputs": [],
   "source": []
  },
  {
   "cell_type": "code",
   "execution_count": null,
   "metadata": {},
   "outputs": [],
   "source": [
    "# Random number: Normal Distribution Random Number Generator"
   ]
  },
  {
   "cell_type": "code",
   "execution_count": 37,
   "metadata": {},
   "outputs": [],
   "source": [
    "x1 = np.random.normal(4, 2, 10000) # normal(Mean, Standard Deviation, Count of Numbers)"
   ]
  },
  {
   "cell_type": "code",
   "execution_count": 34,
   "metadata": {},
   "outputs": [
    {
     "data": {
      "text/plain": [
       "array([ 8.49656375,  6.42542246,  3.07379123,  3.34730218,  2.2562946 ,\n",
       "        4.84900532,  2.18102705,  2.64031045,  6.06529207,  4.68085445,\n",
       "        3.25197884, -0.90129131,  2.37333117,  6.69013112,  7.11714546,\n",
       "        6.31130451,  5.62124685,  1.87541362,  3.62047259,  3.99037784,\n",
       "        4.16110396,  4.32100253,  4.48187476,  4.29479359,  0.66909202,\n",
       "        5.04928302,  4.23713665,  4.65961112,  3.74755343,  2.75227321,\n",
       "        3.68747641,  5.89078456,  6.72784254,  4.16989779,  7.12569352,\n",
       "        6.74864642,  3.42775901,  3.08434451,  4.44112776, -1.56055453,\n",
       "        4.60454034,  3.0087868 ,  6.05835881,  5.39907739,  6.55167207,\n",
       "        3.82493033,  3.70975267,  5.72756967,  4.92945964,  4.33238096,\n",
       "        4.24229659,  2.59389541,  5.86491705,  2.52186909,  2.20929393,\n",
       "        3.2241201 ,  3.28573495,  4.79429539,  3.70962577,  3.24195525,\n",
       "        0.3924614 ,  1.73433967,  4.32969772,  1.21762306,  6.61936389,\n",
       "        4.27456524,  1.53948476,  2.33705494,  4.47725714,  4.06097745,\n",
       "        4.8300314 ,  3.1466969 ,  0.29825666,  3.7255857 ,  1.15313223,\n",
       "        2.0229961 ,  5.72301217,  5.29114643,  7.00771339, 10.67440586,\n",
       "        3.50088129,  4.37933812,  2.41901228,  4.35528516,  6.52891745,\n",
       "        9.02292049,  5.42022786,  6.1096411 ,  7.53589461,  3.62809681,\n",
       "       -1.364999  ,  6.5949682 ,  3.58966152,  1.57512271,  4.60008501,\n",
       "        6.1427926 ,  2.48502831, -2.28817298,  6.62807265,  9.16135988,\n",
       "        4.82075661,  2.05043997,  3.88093342, -0.45983117,  4.25876691,\n",
       "        3.83279045,  5.24743112,  1.73395148,  4.70385637,  3.44086637,\n",
       "        6.08376868,  4.07469051,  4.5940255 ,  6.52839513, -0.20386868,\n",
       "        3.74559283,  4.16612356,  1.95696364,  3.8313858 ,  6.25207013,\n",
       "        5.78442818,  6.70519118,  3.62114129,  4.52226305,  5.88627908,\n",
       "        3.49457892,  4.39115051,  0.50239238,  4.28956319,  1.08573433,\n",
       "        6.13991686,  3.95786822,  5.30721812, -0.2242199 ,  4.23039844,\n",
       "        3.31239379,  5.06421232,  5.84972562,  1.52802805,  0.18318035,\n",
       "        5.86201043, -0.02934931,  6.45730499,  3.15940031,  3.85312961,\n",
       "        5.75308236,  2.35854555,  6.09480064,  0.9522339 ,  5.87924405,\n",
       "        6.248901  ,  6.5414143 ,  2.04291003,  2.81014413, -0.25224286,\n",
       "        3.45538209,  1.93645779,  3.90893101,  2.96664597,  3.27667407,\n",
       "        4.75337769,  2.41529988,  2.43003118,  2.60868799,  5.97467849,\n",
       "        6.85443361,  2.97187798,  4.4447538 ,  4.70693497,  1.09721321,\n",
       "        4.3749564 ,  1.76580775,  5.52544877,  3.91825347,  4.23193608,\n",
       "        1.31933309,  3.55806166,  3.74080944,  1.02959059,  5.38259105,\n",
       "        4.91043201,  3.79317038,  2.71243751,  5.39216622,  4.34989447,\n",
       "        8.43511952,  7.00338832,  3.18278931,  3.33004698,  5.21659083,\n",
       "        6.28055884,  7.36849033,  1.47951845,  3.43919682,  3.96798097,\n",
       "        3.50123484, -0.8080334 ,  3.47184834,  3.63651191,  4.07226851,\n",
       "        1.4983925 ,  4.92677275,  2.81964914,  5.33273588,  7.07955311,\n",
       "        4.73124698,  1.09512687,  0.28728349,  3.29468249,  5.28133937,\n",
       "        3.77595158,  5.50425675,  4.79809578,  3.35650402,  1.32937079,\n",
       "        1.95839493,  3.33985174,  2.64103276,  6.65942462,  4.95413637,\n",
       "        1.37180105,  4.22223689,  3.77769607,  2.79695335,  3.81318483,\n",
       "        4.37468261,  7.89885221,  5.91813003,  4.35313602,  7.59879652,\n",
       "        1.74992759,  2.26808806,  7.82796834,  2.41124004,  6.22624046,\n",
       "        5.11075566,  1.63761803,  2.2548176 ,  1.92239331,  3.40939012,\n",
       "        8.10541272, -1.91282802,  4.56073561,  7.14936379,  6.41076466,\n",
       "        3.53366832,  2.76730984,  1.97636286,  6.22189082,  3.77755941,\n",
       "        3.44829686,  2.44552749,  2.90519658,  1.41064251,  5.3877295 ,\n",
       "        0.95997948,  3.86485904,  0.69434626,  2.76654619,  4.24315689,\n",
       "        3.69692238,  2.29555646,  4.24380679,  3.6024332 ,  3.19291886,\n",
       "        7.93163946,  6.51476793,  5.33804204, -0.30289471,  7.84596416,\n",
       "        7.50441296,  4.48717161,  1.10576209,  3.77312369,  1.0945257 ,\n",
       "        4.6508063 ,  6.04446757, -1.06112593,  3.90604686,  2.12220185,\n",
       "        2.86496011,  3.74575438,  1.5681536 ,  7.30080145,  6.35744101,\n",
       "        7.08679616,  0.83126244,  5.29251269,  5.9803349 ,  2.12238049,\n",
       "        3.87072534,  4.67694152,  3.45438698,  4.11041871,  5.92834474,\n",
       "        3.45678991,  0.39755956,  3.50079069,  2.8674691 ,  4.92737137,\n",
       "        6.29008154,  7.72190934,  3.79773368,  6.49053056,  4.83961086,\n",
       "        4.1439779 ,  2.9573057 ,  7.88032734,  5.07742555,  7.27747697,\n",
       "        2.02082628,  4.96015956,  4.96992211,  5.14960854,  7.71229666,\n",
       "        1.72036952, -1.91217045,  1.6323273 ,  1.92509189,  7.86519615,\n",
       "        3.56522011,  2.11492673,  3.13219728,  3.95893247,  5.25786622,\n",
       "        3.91406706,  3.44657599,  3.65718622,  4.66496861,  3.7532894 ,\n",
       "        7.49981825,  6.11332786,  3.63799178,  0.25559037,  2.13140113,\n",
       "        4.53155264,  7.29979289,  5.08080936,  0.74171542,  1.47452652,\n",
       "        2.48993865,  4.06408172,  5.28018537,  4.890078  ,  5.71355891,\n",
       "        4.26786671,  2.4948161 ,  2.88189131,  3.86082076,  0.83788054,\n",
       "        3.16002666,  1.93140282,  1.05231288,  4.44835855,  5.30120577,\n",
       "        5.37652183,  1.9543026 ,  2.37665908,  0.44240986,  3.4400707 ,\n",
       "        3.68577968,  4.99276117,  3.57263908,  8.87554207,  5.52557899,\n",
       "        5.14767751,  2.21102154,  4.63124041,  3.86680401,  3.3149153 ,\n",
       "        3.43691288,  7.2764177 ,  5.07185371,  3.68520879,  2.67619174,\n",
       "        3.78049525,  3.2472505 ,  3.97615802,  5.06834727,  1.59641685,\n",
       "        3.2004905 ,  3.83280705,  0.85181586,  6.30966604,  4.71828536,\n",
       "        3.36021141,  7.28848647,  4.69554861,  2.39579859,  2.24612726,\n",
       "        4.35133736,  3.93310658,  1.53623945,  2.87977002,  4.89588897,\n",
       "        5.80188689,  3.40522185,  1.9966338 ,  4.81930144,  2.51006296,\n",
       "        3.86950796,  5.70064451,  3.84113518,  3.38643234,  2.17904011,\n",
       "        6.56265868,  5.5687291 ,  2.94462482,  3.63016226,  3.1396143 ,\n",
       "        5.40110109,  3.94438338,  4.21623847,  0.99724085, -0.81917281,\n",
       "        1.2975246 ,  7.07877721,  1.07869244,  1.94434249,  1.72928037,\n",
       "        0.66756746,  5.01830541,  3.83410797,  3.60328184,  2.06060026,\n",
       "        4.0029377 ,  3.21310964,  6.77137289,  3.57749964,  3.82412169,\n",
       "        4.78291653, -0.01596201,  2.53994732,  1.07920076,  4.75502678,\n",
       "        1.09156289,  1.7544623 ,  1.1096356 ,  4.41639188,  0.78659674,\n",
       "        6.40740148,  4.43325958,  4.96115192,  5.85937046,  4.20489302,\n",
       "        6.46404599,  2.31057633,  3.54778043,  3.04929531,  4.00024489,\n",
       "        3.40128945,  2.16961262,  4.25281728,  0.07116663,  1.09949069,\n",
       "        4.38157738,  3.2833702 ,  4.29288317,  1.5454878 ,  5.38145434,\n",
       "        5.11053616,  0.72125172,  1.88886194,  5.33506266,  2.77297284,\n",
       "        5.20027702,  2.94523171,  7.5193421 ,  3.21847246,  5.62525294,\n",
       "        2.70820102,  2.67648891,  3.23364106,  2.44161312,  7.37656784,\n",
       "        4.09420844,  6.14442825,  2.75876198,  5.0004561 , -0.1817089 ,\n",
       "        7.03040547,  4.16855789,  3.13045931,  4.38033823,  7.07018961,\n",
       "        1.3569906 ,  5.40126051,  4.81934125,  7.19225132,  5.11446779,\n",
       "        3.38874768,  5.96008424, -1.12445184,  5.40646904,  5.59052157,\n",
       "        9.18626062,  2.87587408,  5.52249978,  1.86038489,  3.80102147,\n",
       "        2.89144382,  6.37329467,  4.1980081 ,  2.06392212,  1.12584523,\n",
       "        4.76921477,  5.38505329, -0.28918903,  2.80912203,  4.75616391,\n",
       "        3.65744938,  4.80162144,  6.56880924,  3.07129382,  4.97387101,\n",
       "        2.19186276,  6.97153282,  2.96053183,  8.971017  ,  4.47847884,\n",
       "        8.27252823,  2.58396938,  1.69516972,  4.50837917,  2.72607221,\n",
       "        3.25533371,  4.44538969,  6.30122448,  1.40150359,  1.1218455 ,\n",
       "        5.27187169,  8.8378338 ,  4.51003576,  1.76530951,  0.06214501,\n",
       "        3.05650881,  4.92136223,  4.08313241,  6.22248878,  5.7780914 ,\n",
       "        6.04842674,  2.34250861,  1.52935135,  6.17012262,  4.0526274 ,\n",
       "        2.38037621,  7.93094105,  6.39482691,  7.16031806,  2.98043566,\n",
       "        0.62375291,  2.997878  ,  5.5746426 ,  7.06114062,  0.6886156 ,\n",
       "        4.85807739,  1.32434011,  5.91456147,  6.15436687,  7.11504204,\n",
       "       -0.07296495,  3.97691416,  4.97043736, -0.94863401,  6.5094716 ,\n",
       "        6.18783616,  7.4794138 ,  4.35156064,  9.53128478,  4.57081131,\n",
       "        7.71078009,  7.67368009,  4.95000263,  2.66623324,  7.27494154,\n",
       "        6.26310977,  5.19941406,  4.51826542,  1.08848772,  3.81186355,\n",
       "        3.43118274,  8.35858415,  4.08449583,  4.89800798,  2.40247189,\n",
       "        4.82885363, -1.28541893,  3.03438669,  5.62905147,  4.41008404,\n",
       "        3.87495901,  5.14217856,  2.8410768 ,  5.40646182,  6.29206977,\n",
       "        3.84445204,  1.06761415,  1.42362843,  4.98344565,  3.40707636,\n",
       "        4.38605051,  5.02048374,  3.8145601 ,  7.91790244,  1.63148719,\n",
       "        3.42182924,  1.82638204,  3.74650372,  6.26264964,  4.52442975,\n",
       "        2.96724025,  2.02070113,  3.37277402,  1.76137956,  5.34265254,\n",
       "       -0.24742723,  6.12471898,  2.94039579,  3.45134765,  4.31814991,\n",
       "        6.90059295,  1.71956951,  2.09838702,  6.17555597,  6.31999672,\n",
       "        4.6998715 ,  8.28611343,  2.2795129 ,  2.45173188,  4.51204947,\n",
       "        5.88792046,  5.96430216,  4.3671525 ,  3.51779969,  5.71463832,\n",
       "        0.60047466,  5.81974812,  5.23660505,  1.8513117 ,  3.11705405,\n",
       "        6.06218289,  4.03080089,  4.40734301,  4.56996585,  2.97658532,\n",
       "        5.90599037,  1.6557188 ,  2.61844891,  5.1530847 ,  5.07095998,\n",
       "        2.40815512,  7.34524536,  6.68771385,  2.02904248,  4.6129097 ,\n",
       "        2.56594017,  1.03751982,  6.7495284 ,  0.10992546,  4.42025792,\n",
       "        4.02140562, -0.57152137,  0.76044422,  7.47501148,  1.2497291 ,\n",
       "        5.12861831,  0.34049339,  1.29553154,  7.98806109,  4.1429615 ,\n",
       "        1.44908427, -0.91241853,  1.36949901,  4.47914229,  1.47774281,\n",
       "        7.44417622,  3.95593141,  1.18800017,  2.29067018,  4.48486006,\n",
       "        0.02128521,  6.55402603,  1.86402007,  7.72549259,  2.47778959,\n",
       "        1.47064235,  2.65660816,  3.25545745,  2.08782279,  4.63816724,\n",
       "        9.2987202 ,  5.43402973,  3.90925486,  3.70546688,  8.56039812,\n",
       "        5.16818548,  2.61565777,  0.7035532 ,  2.5821731 ,  3.72107383,\n",
       "        2.7732346 ,  3.80208599,  3.94611439,  5.93237625,  3.20193395,\n",
       "        1.06513898,  1.31142031,  3.35013467,  2.57443827,  3.29361609,\n",
       "        9.04193931,  3.82975933,  4.29605048,  2.1695219 ,  3.74551854,\n",
       "        2.60225593,  0.39717332,  3.02004226,  2.46025312,  3.35189027,\n",
       "        4.02051204,  5.20945289,  6.93040494,  2.2088216 ,  3.75376884,\n",
       "        1.97781768,  6.48409968,  4.02297199,  3.05138562,  4.62704929,\n",
       "        1.13348554,  7.29261889,  1.62881188,  2.65324   ,  3.63436574,\n",
       "        7.71284769,  2.42738599, -0.30422946,  8.35893013,  4.54478613,\n",
       "        5.11251571,  3.87927933,  5.04353855,  4.42282072,  1.58980086,\n",
       "        4.13051411,  4.55382028,  4.61713533,  4.63051029,  7.15839987,\n",
       "        5.52025965,  2.68607968,  2.3938551 ,  4.22652508,  2.68812104,\n",
       "        4.66246236,  6.2365581 ,  3.82768937,  5.97563752,  6.77674048,\n",
       "        3.29788788,  7.17531902,  3.38907885,  4.34059524,  5.0619942 ,\n",
       "        5.4761409 ,  1.34987323,  7.27333362,  3.90987194,  3.72227816,\n",
       "        5.2250696 ,  3.56728029,  5.80625238,  5.21031169,  1.99756467,\n",
       "        4.51608718,  5.57318812,  3.05087874,  1.55459874,  7.1074922 ,\n",
       "        6.70728089,  5.19253065,  2.61049548, -0.41567638,  4.28906227,\n",
       "        3.36438389,  5.96070235,  4.96046157, -0.44095318,  4.21129319,\n",
       "        4.08286188,  2.96194921,  1.83012984,  6.06604191,  5.88050982,\n",
       "        2.24558944,  4.46213984,  2.80878224,  2.44391797,  2.21910073,\n",
       "        4.83676597,  2.33703112,  4.11001961,  2.92797468,  3.51527708,\n",
       "        0.52862865,  5.54677408,  4.55556888,  1.19751297,  4.2909169 ,\n",
       "        3.91077933,  2.92848257,  5.00878154,  4.09971919,  4.15820334,\n",
       "        5.60223631,  3.08019446, -0.37264647,  6.30243244,  5.61889298,\n",
       "        8.84365821, -0.73748168,  2.96781133,  3.14851002,  0.85508672,\n",
       "        1.83874035,  3.3123305 ,  2.34203966,  6.99998999,  1.92518715,\n",
       "        4.14606336,  1.76677517,  7.52613926,  4.3158182 ,  4.75981772,\n",
       "        3.98338421,  2.37909096, -1.31242395,  2.54200362,  0.86495098,\n",
       "        1.35655492,  1.48539372,  4.76326815,  5.01523578,  0.43949256,\n",
       "        5.09996392,  2.04362995,  7.26571167,  3.07904735,  4.95780018,\n",
       "        2.84671738,  6.10486984,  2.11790412,  3.35511369,  1.18667315,\n",
       "        4.45195032,  3.69712322,  5.16615145,  0.74385889,  2.66746986,\n",
       "        6.1840712 ,  2.74363581,  4.46547935,  4.35755242,  4.5200185 ,\n",
       "        4.53034137,  6.80615985,  2.22170504,  8.29273889,  5.63784874,\n",
       "        6.4348007 ,  2.8201209 ,  4.80130025,  4.43553169,  2.61013071,\n",
       "        1.15629405,  5.36815271,  6.19384822,  8.98988038,  8.04283182,\n",
       "        5.22098142,  2.0298556 ,  5.50704915,  5.95484895,  5.04006763,\n",
       "        1.79458629,  4.16350983,  2.45835997,  4.4605533 ,  3.60916186,\n",
       "        3.44759297,  4.40214691,  1.93617468,  4.17442601,  8.09103953,\n",
       "        4.40925995,  5.15556884,  4.49767443,  2.9738638 ,  4.01970244,\n",
       "        6.80625421,  5.90553082,  4.73587945,  2.6901792 ,  3.98535735,\n",
       "        5.42499629,  5.99283755,  7.27016776,  7.47850854,  2.30334838,\n",
       "        1.4969797 ,  3.93799145,  1.86984294,  2.35816426,  1.50508338,\n",
       "        4.41638109,  2.35405711,  2.1615685 ,  3.52974644,  1.55645032,\n",
       "        7.4062772 ,  5.91648662,  1.71705047, -0.42191764,  1.44325752,\n",
       "        1.91008613,  3.25351267,  5.19573149,  4.39075199,  2.35986155,\n",
       "        1.41717918,  2.82671809,  1.89677848,  3.77539253,  3.20681937,\n",
       "        2.28712518,  4.79660382,  3.25518266,  6.38076393,  5.62743369,\n",
       "        3.12746033,  2.89821157,  1.88106584, -0.3164172 ,  3.03622957,\n",
       "        6.13898029,  3.54101506,  3.88309331,  0.95860553,  6.69077165,\n",
       "        2.35735419,  2.53232069,  2.52753196,  1.49357473,  6.19552843,\n",
       "        5.4544333 ,  1.77842037,  3.04458257,  4.02085438,  3.74524721,\n",
       "        5.23287113,  6.04143112,  2.48044209,  5.34115421,  3.18359694,\n",
       "        3.67836788,  5.42036995,  4.47612918,  4.64745715,  8.56627829,\n",
       "        5.42725132,  3.24452827,  2.7543313 ,  5.76012144,  5.24587381,\n",
       "        2.32185478,  2.91414014,  1.22087742,  3.00304476,  4.81108448,\n",
       "        2.83388847,  2.59560727,  6.22069909,  4.9440299 ,  5.49616603,\n",
       "        5.28523119,  2.18807837,  8.91258519,  3.0412559 ,  6.51082592,\n",
       "        4.65166294,  0.96004938,  9.7586058 ,  1.34052573,  8.1983532 ,\n",
       "        1.36605516,  5.39163761,  0.93122174,  1.27603096,  5.25708785])"
      ]
     },
     "execution_count": 34,
     "metadata": {},
     "output_type": "execute_result"
    }
   ],
   "source": [
    "x1"
   ]
  },
  {
   "cell_type": "code",
   "execution_count": 38,
   "metadata": {},
   "outputs": [],
   "source": [
    "import matplotlib.pyplot as plt"
   ]
  },
  {
   "cell_type": "code",
   "execution_count": 39,
   "metadata": {},
   "outputs": [
    {
     "data": {
      "text/plain": [
       "(array([  34.,  174.,  883., 2308., 3098., 2382.,  905.,  185.,   27.,\n",
       "           4.]),\n",
       " array([-3.31194134, -1.68802162, -0.0641019 ,  1.55981782,  3.18373755,\n",
       "         4.80765727,  6.43157699,  8.05549672,  9.67941644, 11.30333616,\n",
       "        12.92725588]),\n",
       " <a list of 10 Patch objects>)"
      ]
     },
     "execution_count": 39,
     "metadata": {},
     "output_type": "execute_result"
    },
    {
     "data": {
      "image/png": "[encoded data removed]",
      "text/plain": [
       "<Figure size 432x288 with 1 Axes>"
      ]
     },
     "metadata": {
      "needs_background": "light"
     },
     "output_type": "display_data"
    }
   ],
   "source": [
    "plt.hist(x1)"
   ]
  },
  {
   "cell_type": "code",
   "execution_count": 42,
   "metadata": {},
   "outputs": [],
   "source": [
    "x2 = np.random.normal(4,2,10)"
   ]
  },
  {
   "cell_type": "code",
   "execution_count": 43,
   "metadata": {},
   "outputs": [
    {
     "data": {
      "text/plain": [
       "array([ 3.61923895,  4.24216662,  3.89165703,  0.78190281,  1.38101579,\n",
       "        2.38281139,  5.94023943,  5.5644066 , -2.24061436,  0.42349347])"
      ]
     },
     "execution_count": 43,
     "metadata": {},
     "output_type": "execute_result"
    }
   ],
   "source": [
    "x2"
   ]
  },
  {
   "cell_type": "code",
   "execution_count": 44,
   "metadata": {},
   "outputs": [
    {
     "data": {
      "text/plain": [
       "array([5.85985332, 6.48278099, 6.13227139, 3.02251718, 3.62163016,\n",
       "       4.62342575, 8.1808538 , 7.80502097, 0.        , 2.66410783])"
      ]
     },
     "execution_count": 44,
     "metadata": {},
     "output_type": "execute_result"
    }
   ],
   "source": [
    "x2 - np.min(x2)"
   ]
  },
  {
   "cell_type": "code",
   "execution_count": 45,
   "metadata": {},
   "outputs": [
    {
     "data": {
      "text/plain": [
       "-2.2406143625948323"
      ]
     },
     "execution_count": 45,
     "metadata": {},
     "output_type": "execute_result"
    }
   ],
   "source": [
    "np.min(x2)"
   ]
  },
  {
   "cell_type": "code",
   "execution_count": 46,
   "metadata": {},
   "outputs": [
    {
     "data": {
      "text/plain": [
       "5.859853312594833"
      ]
     },
     "execution_count": 46,
     "metadata": {},
     "output_type": "execute_result"
    }
   ],
   "source": [
    "3.61923895 - (-2.2406143625948323)"
   ]
  },
  {
   "cell_type": "code",
   "execution_count": null,
   "metadata": {},
   "outputs": [],
   "source": []
  },
  {
   "cell_type": "code",
   "execution_count": null,
   "metadata": {},
   "outputs": [],
   "source": []
  },
  {
   "cell_type": "code",
   "execution_count": 52,
   "metadata": {},
   "outputs": [],
   "source": [
    "y2 = np.array([1, 2, 2.5, 3, 3.5, 4, 4.5, 5])"
   ]
  },
  {
   "cell_type": "code",
   "execution_count": 53,
   "metadata": {},
   "outputs": [
    {
     "data": {
      "text/plain": [
       "3.1875"
      ]
     },
     "execution_count": 53,
     "metadata": {},
     "output_type": "execute_result"
    }
   ],
   "source": [
    "np.mean(y2)"
   ]
  },
  {
   "cell_type": "code",
   "execution_count": 54,
   "metadata": {},
   "outputs": [
    {
     "data": {
      "text/plain": [
       "1.248436522214886"
      ]
     },
     "execution_count": 54,
     "metadata": {},
     "output_type": "execute_result"
    }
   ],
   "source": [
    "np.std(y2)"
   ]
  },
  {
   "cell_type": "code",
   "execution_count": null,
   "metadata": {},
   "outputs": [],
   "source": [
    "# standardized values (z-values)"
   ]
  },
  {
   "cell_type": "code",
   "execution_count": 55,
   "metadata": {},
   "outputs": [
    {
     "name": "stdout",
     "output_type": "stream",
     "text": [
      "-1.752191610126156\n",
      "-0.9511897312113419\n",
      "-0.5506887917539348\n",
      "-0.15018785229652767\n",
      "0.25031308716087947\n",
      "0.6508140266182866\n",
      "1.0513149660756937\n",
      "1.4518159055331008\n"
     ]
    }
   ],
   "source": [
    "for val in y2:\n",
    "    print ( ( val - np.mean(y2) ) / np.std(y2) )"
   ]
  },
  {
   "cell_type": "code",
   "execution_count": null,
   "metadata": {},
   "outputs": [],
   "source": []
  }
 ],
 "metadata": {
  "kernelspec": {
   "display_name": "Python 3",
   "language": "python",
   "name": "python3"
  },
  "language_info": {
   "codemirror_mode": {
    "name": "ipython",
    "version": 3
   },
   "file_extension": ".py",
   "mimetype": "text/x-python",
   "name": "python",
   "nbconvert_exporter": "python",
   "pygments_lexer": "ipython3",
   "version": "3.7.3"
  }
 },
 "nbformat": 4,
 "nbformat_minor": 2
}
