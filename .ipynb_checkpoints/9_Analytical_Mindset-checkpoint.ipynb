{
 "cells": [
  {
   "cell_type": "code",
   "execution_count": null,
   "metadata": {},
   "outputs": [],
   "source": [
    "# What is data analysis?\n",
    "\n",
    "# When you analyze data to find a solution to help a company.\n",
    "# Collecting data.\n",
    "# Interpreting it.\n",
    "# To find trends and patterns. - Most Important\n",
    "# Extracting useful info.\n",
    "# Coming to a conclusion to help with decision making. - Most Important"
   ]
  },
  {
   "cell_type": "code",
   "execution_count": null,
   "metadata": {},
   "outputs": [],
   "source": [
    "# Very obvious point to mention.\n",
    "\n",
    "# During corona time, sales of Mask grows up by 10x.\n",
    "# Why?\n",
    "# Because of Corona.\n",
    "\n",
    "# After 10-20 years, some data professional look into Walmart/Amazon sales data.\n",
    "# And suddenly finds a spike in mask sales. (Company Sales Data) (Organizational Data)\n",
    "# Link up the findings with news maybe. (External Data)"
   ]
  },
  {
   "cell_type": "code",
   "execution_count": null,
   "metadata": {},
   "outputs": [],
   "source": [
    "# For example, Brampton Transit ask a data analyst that we have more complaints during certain times in a year.\n",
    "\n",
    "# What may be reason, and how we can improve on complaints?"
   ]
  },
  {
   "cell_type": "code",
   "execution_count": null,
   "metadata": {},
   "outputs": [],
   "source": [
    "# To answer this question, you may need bring weather data in the \"data cube\". (External Data)"
   ]
  },
  {
   "cell_type": "code",
   "execution_count": null,
   "metadata": {},
   "outputs": [],
   "source": [
    "# Let's take a scenario:\n",
    "\n",
    "# When?\n",
    "# Where?\n",
    "# Which?\n",
    "# Who?\n",
    "# How?"
   ]
  },
  {
   "cell_type": "code",
   "execution_count": null,
   "metadata": {},
   "outputs": [],
   "source": [
    "# What is when?\n",
    "\n",
    "# When is \"Time\".\n",
    "# Eg. some company want to analyze their sales in the terms of months, weeks.\n",
    "\n",
    "# Month-wise (Monthly)\n",
    "# Week-wise (Weekly)"
   ]
  },
  {
   "cell_type": "code",
   "execution_count": null,
   "metadata": {},
   "outputs": [],
   "source": [
    "# Eg. company ABC is selling their product through Walmart and Target. [Sales Partners]\n",
    "\n",
    "# There sales are X in walmart, and Y in target.\n",
    "\n",
    "# You've two Lines of Business (LoB), i.e. Walmart & Target.\n",
    "# Walmart is healthy.\n",
    "# Target is worrisome.\n",
    "\n",
    "# Months = [Jan, Feb, Mar, Apr, May, Jun]\n",
    "# X = [100, 110, 120, 130, 140, 150]\n",
    "# Y = [80, 90, 100, 80, 70, 90]"
   ]
  },
  {
   "cell_type": "code",
   "execution_count": null,
   "metadata": {},
   "outputs": [],
   "source": [
    "# Target is a worried trend. Bearish trend. [Root cause analysis, why sales is going down] [Strategy revamping/reconsideration]\n",
    "\n",
    "# Walmart is a bullish trend. - [You'll focus more here to increase your sales.]\n",
    "\n",
    "# In stock market, when it goes up its bullish, when it goes down, it bearish."
   ]
  },
  {
   "cell_type": "code",
   "execution_count": null,
   "metadata": {},
   "outputs": [],
   "source": []
  },
  {
   "cell_type": "code",
   "execution_count": null,
   "metadata": {},
   "outputs": [],
   "source": []
  },
  {
   "cell_type": "code",
   "execution_count": null,
   "metadata": {},
   "outputs": [],
   "source": []
  },
  {
   "cell_type": "code",
   "execution_count": null,
   "metadata": {},
   "outputs": [],
   "source": []
  }
 ],
 "metadata": {
  "kernelspec": {
   "display_name": "Python 3",
   "language": "python",
   "name": "python3"
  },
  "language_info": {
   "codemirror_mode": {
    "name": "ipython",
    "version": 3
   },
   "file_extension": ".py",
   "mimetype": "text/x-python",
   "name": "python",
   "nbconvert_exporter": "python",
   "pygments_lexer": "ipython3",
   "version": "3.7.3"
  }
 },
 "nbformat": 4,
 "nbformat_minor": 2
}
